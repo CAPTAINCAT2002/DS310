{
  "nbformat": 4,
  "nbformat_minor": 0,
  "metadata": {
    "colab": {
      "provenance": [],
      "collapsed_sections": [],
      "toc_visible": true
    },
    "kernelspec": {
      "name": "python3",
      "display_name": "Python 3"
    },
    "language_info": {
      "name": "python"
    }
  },
  "cells": [
    {
      "cell_type": "code",
      "source": [
        "from google.colab import drive\n",
        "drive.mount('/content/drive')"
      ],
      "metadata": {
        "id": "8fG3SnreSIwY",
        "colab": {
          "base_uri": "https://localhost:8080/"
        },
        "outputId": "c3cb3fe7-a9e6-4aba-a82d-f992f1f679bb"
      },
      "execution_count": 1,
      "outputs": [
        {
          "output_type": "stream",
          "name": "stdout",
          "text": [
            "Mounted at /content/drive\n"
          ]
        }
      ]
    },
    {
      "cell_type": "code",
      "source": [
        "%autosave 60"
      ],
      "metadata": {
        "colab": {
          "base_uri": "https://localhost:8080/",
          "height": 34
        },
        "id": "j-fieeMSS5dy",
        "outputId": "1cb6c902-c340-4206-f470-9aa3faae6581"
      },
      "execution_count": 2,
      "outputs": [
        {
          "output_type": "display_data",
          "data": {
            "application/javascript": [
              "IPython.notebook.set_autosave_interval(60000)"
            ]
          },
          "metadata": {}
        },
        {
          "output_type": "stream",
          "name": "stdout",
          "text": [
            "Autosaving every 60 seconds\n"
          ]
        }
      ]
    },
    {
      "cell_type": "code",
      "source": [
        "from matplotlib import pyplot as plt\n",
        "from matplotlib import style\n",
        "import pandas as pd\n",
        "import numpy as np\n",
        "import tensorflow as tf\n",
        "\n",
        "style.use(['ggplot'])"
      ],
      "metadata": {
        "id": "idjQgp3wcD8A"
      },
      "execution_count": 3,
      "outputs": []
    },
    {
      "cell_type": "code",
      "source": [
        "!git clone https://github.com/VinAIResearch/PhoNER_COVID19.git"
      ],
      "metadata": {
        "colab": {
          "base_uri": "https://localhost:8080/"
        },
        "id": "mKy1Ac6pJqve",
        "outputId": "a48022ab-c47a-47f5-eceb-f2a1cc0f373b"
      },
      "execution_count": 4,
      "outputs": [
        {
          "output_type": "stream",
          "name": "stdout",
          "text": [
            "Cloning into 'PhoNER_COVID19'...\n",
            "remote: Enumerating objects: 58, done.\u001b[K\n",
            "remote: Counting objects: 100% (58/58), done.\u001b[K\n",
            "remote: Compressing objects: 100% (38/38), done.\u001b[K\n",
            "remote: Total 58 (delta 23), reused 41 (delta 18), pack-reused 0\u001b[K\n",
            "Unpacking objects: 100% (58/58), done.\n"
          ]
        }
      ]
    },
    {
      "cell_type": "markdown",
      "source": [
        "# Load dataset"
      ],
      "metadata": {
        "id": "TBx39bg9cO-s"
      }
    },
    {
      "cell_type": "code",
      "source": [
        "train_data = pd.read_json('/content/PhoNER_COVID19/data/word/train_word.json', lines=True)\n",
        "dev_data = pd.read_json('/content/PhoNER_COVID19/data/word/dev_word.json', lines=True)\n",
        "test_data = pd.read_json('/content/PhoNER_COVID19/data/word/test_word.json', lines=True)"
      ],
      "metadata": {
        "id": "xX9RhtZ7qfS2"
      },
      "execution_count": 5,
      "outputs": []
    },
    {
      "cell_type": "code",
      "source": [
        "train_data = train_data.fillna(method='ffill')\n",
        "dev_data = dev_data.fillna(method='ffill')\n",
        "test_data = test_data.fillna(method='ffill')"
      ],
      "metadata": {
        "id": "Q6sIO3CpArWl"
      },
      "execution_count": 6,
      "outputs": []
    },
    {
      "cell_type": "markdown",
      "source": [
        "# Pre-processing"
      ],
      "metadata": {
        "id": "2LzdAXixIsc9"
      }
    },
    {
      "cell_type": "code",
      "source": [
        "def processing_data(data):\n",
        "  flat_word = [item for sentence in data['words'] for item in sentence]\n",
        "  flat_tag = [item for sentence in data['tags'] for item in sentence]\n",
        "  sentence = []\n",
        "  for i in range(len(data)):\n",
        "    for j in range(len(data.iloc[i]['words'])):\n",
        "        sentence.append(\"Sentence: \"+ str(i+1))\n",
        "\n",
        "  df = pd.DataFrame(columns=['Sentence #','Word','Tag'])\n",
        "  df['Sentence #'] = sentence\n",
        "  df['Word'] = flat_word\n",
        "  df['Tag'] = flat_tag\n",
        "\n",
        "  return df"
      ],
      "metadata": {
        "id": "lG4v2mm0TZXw"
      },
      "execution_count": 7,
      "outputs": []
    },
    {
      "cell_type": "code",
      "source": [
        "train = processing_data(train_data)\n",
        "dev = processing_data(dev_data)\n",
        "test = processing_data(test_data) "
      ],
      "metadata": {
        "id": "4tpuIPoPT1DO"
      },
      "execution_count": 8,
      "outputs": []
    },
    {
      "cell_type": "markdown",
      "source": [
        "# Word corpus create"
      ],
      "metadata": {
        "id": "wfLaghs0QkJ4"
      }
    },
    {
      "cell_type": "code",
      "source": [
        "corpus = [train['Word'].values.tolist(), dev['Word'].values.tolist(), test['Word'].values.tolist()]\n",
        "corpus = sum(corpus, [])\n",
        "corpus[5]"
      ],
      "metadata": {
        "colab": {
          "base_uri": "https://localhost:8080/",
          "height": 36
        },
        "id": "CW7fVXmzWUug",
        "outputId": "85a61313-81d7-4d43-a4b7-6951e0311e45"
      },
      "execution_count": 9,
      "outputs": [
        {
          "output_type": "execute_result",
          "data": {
            "text/plain": [
              "'các'"
            ],
            "application/vnd.google.colaboratory.intrinsic+json": {
              "type": "string"
            }
          },
          "metadata": {},
          "execution_count": 9
        }
      ]
    },
    {
      "cell_type": "code",
      "source": [
        "# tạo tập từ vựng\n",
        "words = list(set(corpus))\n",
        "words.append(\"ENDPAD\")\n",
        "num_words = len(words)"
      ],
      "metadata": {
        "id": "36ADHl7_KfEr"
      },
      "execution_count": 10,
      "outputs": []
    },
    {
      "cell_type": "code",
      "source": [
        "# tạo tập nhãn\n",
        "tags = list(set(train[\"Tag\"].values))\n",
        "num_tags = len(tags)"
      ],
      "metadata": {
        "id": "hQ36kCFKQwK3"
      },
      "execution_count": 11,
      "outputs": []
    },
    {
      "cell_type": "markdown",
      "source": [
        "# Get sentences and tag corresponding"
      ],
      "metadata": {
        "id": "OL0hNhS7RAbv"
      }
    },
    {
      "cell_type": "code",
      "source": [
        "def get_sentences(data):\n",
        "  agg = lambda s: [(w,t) for w, t in zip(s[\"Word\"].values.tolist(),\n",
        "                                         s[\"Tag\"].values.tolist())]\n",
        "  group = data.groupby('Sentence #').apply(agg)\n",
        "  return [sen for sen in group]"
      ],
      "metadata": {
        "id": "aWwwFWQzRA5f"
      },
      "execution_count": 12,
      "outputs": []
    },
    {
      "cell_type": "code",
      "source": [
        "sentences = get_sentences(train)"
      ],
      "metadata": {
        "id": "WF7G-N2WUTLE"
      },
      "execution_count": 13,
      "outputs": []
    },
    {
      "cell_type": "markdown",
      "source": [
        "# Mapping sentences and index"
      ],
      "metadata": {
        "id": "Xm6As2HVUTtc"
      }
    },
    {
      "cell_type": "code",
      "source": [
        "word2idx = {w: i   for i, w in enumerate(words)}\n",
        "tag2idx = {t: i for i, t in enumerate(tags)}"
      ],
      "metadata": {
        "id": "I0pnKFmgTXZc"
      },
      "execution_count": 14,
      "outputs": []
    },
    {
      "cell_type": "code",
      "source": [
        "word2idx['ENDPAD']"
      ],
      "metadata": {
        "colab": {
          "base_uri": "https://localhost:8080/"
        },
        "id": "uIpFJE7JUran",
        "outputId": "446fc7dc-b352-4d19-ecd1-e9ff7ddfc9fc"
      },
      "execution_count": 15,
      "outputs": [
        {
          "output_type": "execute_result",
          "data": {
            "text/plain": [
              "8101"
            ]
          },
          "metadata": {},
          "execution_count": 15
        }
      ]
    },
    {
      "cell_type": "code",
      "source": [
        "tag2idx"
      ],
      "metadata": {
        "colab": {
          "base_uri": "https://localhost:8080/"
        },
        "id": "0P76iCpYUvk3",
        "outputId": "bca96cfe-3543-4fb7-955b-30a8cbe91ff8"
      },
      "execution_count": 16,
      "outputs": [
        {
          "output_type": "execute_result",
          "data": {
            "text/plain": [
              "{'I-ORGANIZATION': 0,\n",
              " 'I-PATIENT_ID': 1,\n",
              " 'B-NAME': 2,\n",
              " 'B-ORGANIZATION': 3,\n",
              " 'B-PATIENT_ID': 4,\n",
              " 'B-AGE': 5,\n",
              " 'B-SYMPTOM_AND_DISEASE': 6,\n",
              " 'O': 7,\n",
              " 'I-AGE': 8,\n",
              " 'I-NAME': 9,\n",
              " 'B-DATE': 10,\n",
              " 'B-TRANSPORTATION': 11,\n",
              " 'I-JOB': 12,\n",
              " 'I-DATE': 13,\n",
              " 'B-JOB': 14,\n",
              " 'B-GENDER': 15,\n",
              " 'I-SYMPTOM_AND_DISEASE': 16,\n",
              " 'I-TRANSPORTATION': 17,\n",
              " 'I-LOCATION': 18,\n",
              " 'B-LOCATION': 19}"
            ]
          },
          "metadata": {},
          "execution_count": 16
        }
      ]
    },
    {
      "cell_type": "markdown",
      "source": [
        "# Visualizing"
      ],
      "metadata": {
        "id": "xix9EcxlUyqb"
      }
    },
    {
      "cell_type": "code",
      "source": [
        "plt.hist([len(s) for s in sentences], bins=50)\n",
        "plt.xlabel('Length of sentences')\n",
        "plt.ylabel('Number of sentences')\n",
        "\n",
        "plt.show()"
      ],
      "metadata": {
        "colab": {
          "base_uri": "https://localhost:8080/",
          "height": 282
        },
        "id": "011J0x3aUxFU",
        "outputId": "be7fcd76-5bca-4751-ec4b-0b6b9b810b76"
      },
      "execution_count": 17,
      "outputs": [
        {
          "output_type": "display_data",
          "data": {
            "text/plain": [
              "<Figure size 432x288 with 1 Axes>"
            ],
            "image/png": "[encoded data removed]"
          },
          "metadata": {}
        }
      ]
    },
    {
      "cell_type": "markdown",
      "source": [
        "# Padding input"
      ],
      "metadata": {
        "id": "JYK-qX4DVwRF"
      }
    },
    {
      "cell_type": "code",
      "source": [
        "# ánh xạ từ trong câu và nhãn về index của nó\n",
        "from tensorflow.keras.preprocessing.sequence import pad_sequences\n",
        "# đặt max length cho phù hợp\n",
        "max_len = 95"
      ],
      "metadata": {
        "id": "L95jgxACWGpP"
      },
      "execution_count": 18,
      "outputs": []
    },
    {
      "cell_type": "code",
      "source": [
        "def padding_input(word2idx=word2idx, tag2idx=tag2idx, sentences=sentences, num_words=num_words):\n",
        "  X = [[word2idx[w[0]] for w in s] for s in sentences]\n",
        "  X = pad_sequences(maxlen=max_len, sequences=X, padding=\"post\", value=num_words-1)\n",
        "  \n",
        "  #tương tự với nhãn\n",
        "  y = [[tag2idx[w[1]] for w in s] for s in sentences]\n",
        "  y = pad_sequences(maxlen=max_len, sequences=y, padding='post', value=tag2idx[\"O\"])\n",
        "\n",
        "  return X, y"
      ],
      "metadata": {
        "id": "lW-uR1TuWHPd"
      },
      "execution_count": 19,
      "outputs": []
    },
    {
      "cell_type": "code",
      "source": [
        "X_train, y_train = padding_input()\n",
        "X_dev, y_dev = padding_input()\n",
        "X_test, y_test = padding_input()"
      ],
      "metadata": {
        "id": "e7SGRknoZHqs"
      },
      "execution_count": 20,
      "outputs": []
    },
    {
      "cell_type": "code",
      "source": [
        "print(X_train[0])\n",
        "print(y_train[0])"
      ],
      "metadata": {
        "colab": {
          "base_uri": "https://localhost:8080/"
        },
        "id": "f8cCH21FZSTJ",
        "outputId": "41b7af4a-45b2-4bcb-d4ac-48ec4ef4b15c"
      },
      "execution_count": 21,
      "outputs": [
        {
          "output_type": "stream",
          "name": "stdout",
          "text": [
            "[2255 4130 6196 1293 5122 6441 7900 6358 2052 6207 6027  378 6609  236\n",
            " 3743 6956 8033 6098 8101 8101 8101 8101 8101 8101 8101 8101 8101 8101\n",
            " 8101 8101 8101 8101 8101 8101 8101 8101 8101 8101 8101 8101 8101 8101\n",
            " 8101 8101 8101 8101 8101 8101 8101 8101 8101 8101 8101 8101 8101 8101\n",
            " 8101 8101 8101 8101 8101 8101 8101 8101 8101 8101 8101 8101 8101 8101\n",
            " 8101 8101 8101 8101 8101 8101 8101 8101 8101 8101 8101 8101 8101 8101\n",
            " 8101 8101 8101 8101 8101 8101 8101 8101 8101 8101 8101]\n",
            "[7 7 7 7 7 7 7 7 7 7 7 7 7 7 7 3 0 7 7 7 7 7 7 7 7 7 7 7 7 7 7 7 7 7 7 7 7\n",
            " 7 7 7 7 7 7 7 7 7 7 7 7 7 7 7 7 7 7 7 7 7 7 7 7 7 7 7 7 7 7 7 7 7 7 7 7 7\n",
            " 7 7 7 7 7 7 7 7 7 7 7 7 7 7 7 7 7 7 7 7 7]\n"
          ]
        }
      ]
    },
    {
      "cell_type": "markdown",
      "source": [
        "# Building model"
      ],
      "metadata": {
        "id": "nhF53sM3ZXc7"
      }
    },
    {
      "cell_type": "code",
      "source": [
        "from tensorflow.keras.models import Sequential\n",
        "from tensorflow.keras import Model, Input\n",
        "from tensorflow.keras.layers import LSTM, Embedding, Dense\n",
        "from tensorflow.keras.layers import TimeDistributed, SpatialDropout1D, Bidirectional"
      ],
      "metadata": {
        "id": "JYXhqCppZU9r"
      },
      "execution_count": 22,
      "outputs": []
    },
    {
      "cell_type": "code",
      "source": [
        "model = Sequential()\n",
        "\n",
        "#Input\n",
        "model.add(Input(shape=(max_len,)))\n",
        "\n",
        "#Embedding\n",
        "model.add(Embedding(input_dim=num_words, input_length=max_len, output_dim=max_len))\n",
        "\n",
        "#SpatialDropout1D\n",
        "model.add(SpatialDropout1D(0.1))\n",
        "\n",
        "#LSTM\n",
        "model.add(Bidirectional(LSTM(units=100, return_sequences=True, recurrent_dropout=0.5)))\n",
        "\n",
        "#TimeDistributed\n",
        "model.add(TimeDistributed(Dense(num_tags, activation='softmax')))\n",
        "\n",
        "model.summary()"
      ],
      "metadata": {
        "id": "RPydIlZQZZEM",
        "colab": {
          "base_uri": "https://localhost:8080/"
        },
        "outputId": "8d5d7e73-1309-4b53-abcd-c4f41946587d"
      },
      "execution_count": 23,
      "outputs": [
        {
          "output_type": "stream",
          "name": "stdout",
          "text": [
            "Model: \"sequential\"\n",
            "_________________________________________________________________\n",
            " Layer (type)                Output Shape              Param #   \n",
            "=================================================================\n",
            " embedding (Embedding)       (None, 95, 95)            769690    \n",
            "                                                                 \n",
            " spatial_dropout1d (SpatialD  (None, 95, 95)           0         \n",
            " ropout1D)                                                       \n",
            "                                                                 \n",
            " bidirectional (Bidirectiona  (None, 95, 200)          156800    \n",
            " l)                                                              \n",
            "                                                                 \n",
            " time_distributed (TimeDistr  (None, 95, 20)           4020      \n",
            " ibuted)                                                         \n",
            "                                                                 \n",
            "=================================================================\n",
            "Total params: 930,510\n",
            "Trainable params: 930,510\n",
            "Non-trainable params: 0\n",
            "_________________________________________________________________\n"
          ]
        }
      ]
    },
    {
      "cell_type": "code",
      "source": [
        "model.compile(optimizer=\"adam\",\n",
        "              loss=\"sparse_categorical_crossentropy\",\n",
        "              metrics=[\"accuracy\"])"
      ],
      "metadata": {
        "id": "wr0ERg3Dqqg2"
      },
      "execution_count": 24,
      "outputs": []
    },
    {
      "cell_type": "markdown",
      "source": [
        "# Training model"
      ],
      "metadata": {
        "id": "SN5lnvCbq_38"
      }
    },
    {
      "cell_type": "code",
      "source": [
        "import time\n",
        "start_time = time.time()\n",
        "\n",
        "history = model.fit(\n",
        "    x=X_train,\n",
        "    y=y_train,\n",
        "    validation_data=(X_dev,y_dev),\n",
        "    validation_split= 0.1,\n",
        "    batch_size= 32, \n",
        "    epochs=10,\n",
        "    verbose=1\n",
        ")\n",
        "print(\"[{}] Completed!\".format(time.time() - start_time))"
      ],
      "metadata": {
        "id": "XXaFV-5urB2f",
        "colab": {
          "base_uri": "https://localhost:8080/"
        },
        "outputId": "0f268b01-6271-4138-e14d-3ae070cdcba4"
      },
      "execution_count": 25,
      "outputs": [
        {
          "output_type": "stream",
          "name": "stdout",
          "text": [
            "Epoch 1/10\n",
            "158/158 [==============================] - 68s 401ms/step - loss: 0.4363 - accuracy: 0.9356 - val_loss: 0.2175 - val_accuracy: 0.9421\n",
            "Epoch 2/10\n",
            "158/158 [==============================] - 63s 400ms/step - loss: 0.1721 - accuracy: 0.9520 - val_loss: 0.1352 - val_accuracy: 0.9597\n",
            "Epoch 3/10\n",
            "158/158 [==============================] - 64s 401ms/step - loss: 0.1073 - accuracy: 0.9698 - val_loss: 0.0720 - val_accuracy: 0.9829\n",
            "Epoch 4/10\n",
            "158/158 [==============================] - 62s 395ms/step - loss: 0.0581 - accuracy: 0.9857 - val_loss: 0.0393 - val_accuracy: 0.9908\n",
            "Epoch 5/10\n",
            "158/158 [==============================] - 62s 395ms/step - loss: 0.0372 - accuracy: 0.9906 - val_loss: 0.0278 - val_accuracy: 0.9929\n",
            "Epoch 6/10\n",
            "158/158 [==============================] - 64s 407ms/step - loss: 0.0284 - accuracy: 0.9927 - val_loss: 0.0212 - val_accuracy: 0.9946\n",
            "Epoch 7/10\n",
            "158/158 [==============================] - 62s 394ms/step - loss: 0.0227 - accuracy: 0.9940 - val_loss: 0.0172 - val_accuracy: 0.9955\n",
            "Epoch 8/10\n",
            "158/158 [==============================] - 62s 394ms/step - loss: 0.0191 - accuracy: 0.9949 - val_loss: 0.0149 - val_accuracy: 0.9961\n",
            "Epoch 9/10\n",
            "158/158 [==============================] - 62s 395ms/step - loss: 0.0165 - accuracy: 0.9955 - val_loss: 0.0122 - val_accuracy: 0.9968\n",
            "Epoch 10/10\n",
            "158/158 [==============================] - 64s 405ms/step - loss: 0.0144 - accuracy: 0.9961 - val_loss: 0.0111 - val_accuracy: 0.9971\n",
            "[634.7184734344482] Completed!\n"
          ]
        }
      ]
    },
    {
      "cell_type": "markdown",
      "source": [
        "# Predict"
      ],
      "metadata": {
        "id": "N2vV9SHDs_ZN"
      }
    },
    {
      "cell_type": "code",
      "source": [
        "i = 99\n",
        "p = model.predict(np.array([X_test[i]]))\n",
        "p = np.argmax(p, axis=-1)\n",
        "y_true = y_test[i]\n",
        "print(\"{:15}{:5}\\t {}\\n\".format(\"Word\", \"True\", \"Pred\"))\n",
        "print(\"-\" *30)\n",
        "for w, true, pred in zip(X_test[i], y_true, p[0]):\n",
        "    print(\"{:15}{}\\t{}\".format(words[w], tags[true], tags[pred]))"
      ],
      "metadata": {
        "id": "w0I6Qj4Js-Sn",
        "colab": {
          "base_uri": "https://localhost:8080/"
        },
        "outputId": "e3e85ad5-bcbc-4431-fc79-6b9a6cf2a739"
      },
      "execution_count": 26,
      "outputs": [
        {
          "output_type": "stream",
          "name": "stdout",
          "text": [
            "1/1 [==============================] - 1s 676ms/step\n",
            "Word           True \t Pred\n",
            "\n",
            "------------------------------\n",
            "Tôi            O\tO\n",
            "sốt            B-SYMPTOM_AND_DISEASE\tB-SYMPTOM_AND_DISEASE\n",
            ",              O\tO\n",
            "đau            B-SYMPTOM_AND_DISEASE\tB-SYMPTOM_AND_DISEASE\n",
            "họng           I-SYMPTOM_AND_DISEASE\tI-SYMPTOM_AND_DISEASE\n",
            "một_chút       O\tO\n",
            ".              O\tO\n",
            "ENDPAD         O\tO\n",
            "ENDPAD         O\tO\n",
            "ENDPAD         O\tO\n",
            "ENDPAD         O\tO\n",
            "ENDPAD         O\tO\n",
            "ENDPAD         O\tO\n",
            "ENDPAD         O\tO\n",
            "ENDPAD         O\tO\n",
            "ENDPAD         O\tO\n",
            "ENDPAD         O\tO\n",
            "ENDPAD         O\tO\n",
            "ENDPAD         O\tO\n",
            "ENDPAD         O\tO\n",
            "ENDPAD         O\tO\n",
            "ENDPAD         O\tO\n",
            "ENDPAD         O\tO\n",
            "ENDPAD         O\tO\n",
            "ENDPAD         O\tO\n",
            "ENDPAD         O\tO\n",
            "ENDPAD         O\tO\n",
            "ENDPAD         O\tO\n",
            "ENDPAD         O\tO\n",
            "ENDPAD         O\tO\n",
            "ENDPAD         O\tO\n",
            "ENDPAD         O\tO\n",
            "ENDPAD         O\tO\n",
            "ENDPAD         O\tO\n",
            "ENDPAD         O\tO\n",
            "ENDPAD         O\tO\n",
            "ENDPAD         O\tO\n",
            "ENDPAD         O\tO\n",
            "ENDPAD         O\tO\n",
            "ENDPAD         O\tO\n",
            "ENDPAD         O\tO\n",
            "ENDPAD         O\tO\n",
            "ENDPAD         O\tO\n",
            "ENDPAD         O\tO\n",
            "ENDPAD         O\tO\n",
            "ENDPAD         O\tO\n",
            "ENDPAD         O\tO\n",
            "ENDPAD         O\tO\n",
            "ENDPAD         O\tO\n",
            "ENDPAD         O\tO\n",
            "ENDPAD         O\tO\n",
            "ENDPAD         O\tO\n",
            "ENDPAD         O\tO\n",
            "ENDPAD         O\tO\n",
            "ENDPAD         O\tO\n",
            "ENDPAD         O\tO\n",
            "ENDPAD         O\tO\n",
            "ENDPAD         O\tO\n",
            "ENDPAD         O\tO\n",
            "ENDPAD         O\tO\n",
            "ENDPAD         O\tO\n",
            "ENDPAD         O\tO\n",
            "ENDPAD         O\tO\n",
            "ENDPAD         O\tO\n",
            "ENDPAD         O\tO\n",
            "ENDPAD         O\tO\n",
            "ENDPAD         O\tO\n",
            "ENDPAD         O\tO\n",
            "ENDPAD         O\tO\n",
            "ENDPAD         O\tO\n",
            "ENDPAD         O\tO\n",
            "ENDPAD         O\tO\n",
            "ENDPAD         O\tO\n",
            "ENDPAD         O\tO\n",
            "ENDPAD         O\tO\n",
            "ENDPAD         O\tO\n",
            "ENDPAD         O\tO\n",
            "ENDPAD         O\tO\n",
            "ENDPAD         O\tO\n",
            "ENDPAD         O\tO\n",
            "ENDPAD         O\tO\n",
            "ENDPAD         O\tO\n",
            "ENDPAD         O\tO\n",
            "ENDPAD         O\tO\n",
            "ENDPAD         O\tO\n",
            "ENDPAD         O\tO\n",
            "ENDPAD         O\tO\n",
            "ENDPAD         O\tO\n",
            "ENDPAD         O\tO\n",
            "ENDPAD         O\tO\n",
            "ENDPAD         O\tO\n",
            "ENDPAD         O\tO\n",
            "ENDPAD         O\tO\n",
            "ENDPAD         O\tO\n",
            "ENDPAD         O\tO\n"
          ]
        }
      ]
    },
    {
      "cell_type": "markdown",
      "source": [
        "# Evaluate model"
      ],
      "metadata": {
        "id": "3PBwj4HQrF3m"
      }
    },
    {
      "cell_type": "code",
      "source": [
        "model.evaluate(X_dev, y_dev)"
      ],
      "metadata": {
        "id": "qPsYpj5Tr0aH",
        "colab": {
          "base_uri": "https://localhost:8080/"
        },
        "outputId": "84700c12-8a55-4174-c9a7-831a9cb6a17a"
      },
      "execution_count": 27,
      "outputs": [
        {
          "output_type": "stream",
          "name": "stdout",
          "text": [
            "158/158 [==============================] - 9s 57ms/step - loss: 0.0111 - accuracy: 0.9971\n"
          ]
        },
        {
          "output_type": "execute_result",
          "data": {
            "text/plain": [
              "[0.011069844476878643, 0.9971040487289429]"
            ]
          },
          "metadata": {},
          "execution_count": 27
        }
      ]
    },
    {
      "cell_type": "markdown",
      "source": [
        "Đánh giá mô hình trên tập dev có giá trị loss = 0.0111 và accuracy = 99.71%."
      ],
      "metadata": {
        "id": "5e5OYD-LtC2c"
      }
    },
    {
      "cell_type": "code",
      "source": [
        "model.evaluate(X_test, y_test)"
      ],
      "metadata": {
        "id": "k4VMAky8rHsN",
        "colab": {
          "base_uri": "https://localhost:8080/"
        },
        "outputId": "9788c25c-873a-4bab-bc9d-d7ca96ed6e0a"
      },
      "execution_count": 28,
      "outputs": [
        {
          "output_type": "stream",
          "name": "stdout",
          "text": [
            "158/158 [==============================] - 9s 57ms/step - loss: 0.0111 - accuracy: 0.9971\n"
          ]
        },
        {
          "output_type": "execute_result",
          "data": {
            "text/plain": [
              "[0.011069844476878643, 0.9971040487289429]"
            ]
          },
          "metadata": {},
          "execution_count": 28
        }
      ]
    },
    {
      "cell_type": "markdown",
      "source": [
        "Đánh giá mô hình trên tập dev có giá trị loss = 0.0111 và accuracy = 99.71%. Mô hình nhận diện rất tốt các vật thể."
      ],
      "metadata": {
        "id": "6bQlaC8CtDOK"
      }
    },
    {
      "cell_type": "markdown",
      "source": [
        "# Hoàn thiện yêu cầu của file thực hành"
      ],
      "metadata": {
        "id": "VQeoztkgsS1v"
      }
    },
    {
      "cell_type": "markdown",
      "source": [
        "## Accuracy score"
      ],
      "metadata": {
        "id": "DqIZczBOr9LK"
      }
    },
    {
      "cell_type": "code",
      "source": [
        "predict = np.argmax(model.predict(np.array(X_test)), axis=-1)"
      ],
      "metadata": {
        "id": "DqlOaAkVr1ED",
        "colab": {
          "base_uri": "https://localhost:8080/"
        },
        "outputId": "1b481673-5c96-43e8-f966-e74dab0966ab"
      },
      "execution_count": 29,
      "outputs": [
        {
          "output_type": "stream",
          "name": "stdout",
          "text": [
            "158/158 [==============================] - 9s 55ms/step\n"
          ]
        }
      ]
    },
    {
      "cell_type": "code",
      "source": [
        "from sklearn.metrics import accuracy_score\n",
        "accuracy_score(y_test.ravel(), predict.ravel())"
      ],
      "metadata": {
        "id": "pUmG3BE6sBao",
        "colab": {
          "base_uri": "https://localhost:8080/"
        },
        "outputId": "a6d1a551-c905-4ec3-e613-dcf333dfe2ae"
      },
      "execution_count": 30,
      "outputs": [
        {
          "output_type": "execute_result",
          "data": {
            "text/plain": [
              "0.9971040591333117"
            ]
          },
          "metadata": {},
          "execution_count": 30
        }
      ]
    },
    {
      "cell_type": "markdown",
      "source": [
        "## F1 score"
      ],
      "metadata": {
        "id": "0I0h-5TRr_z5"
      }
    },
    {
      "cell_type": "code",
      "source": [
        "from sklearn.metrics import  f1_score\n",
        "print(\"F1-score (macro): {:.4%}\".format(f1_score(y_test.ravel(), predict.ravel(), average = 'macro')))\n",
        "print(\"F1-score (micro): {:.4%}\".format(f1_score(y_test.ravel(), predict.ravel(), average = 'micro')))"
      ],
      "metadata": {
        "id": "GW7guhnBsAia",
        "colab": {
          "base_uri": "https://localhost:8080/"
        },
        "outputId": "2a068636-b797-43f3-f3ea-c9b23e5a2a5e"
      },
      "execution_count": 31,
      "outputs": [
        {
          "output_type": "stream",
          "name": "stdout",
          "text": [
            "F1-score (macro): 78.7652%\n",
            "F1-score (micro): 99.7104%\n"
          ]
        }
      ]
    },
    {
      "cell_type": "markdown",
      "source": [
        "## F1 score và Accuracy score trên từng nhãn cụ thể"
      ],
      "metadata": {
        "id": "a99X-1nVsRFl"
      }
    },
    {
      "cell_type": "code",
      "source": [
        "from sklearn.metrics import classification_report\n",
        "\n",
        "idx2tag = {i: t for i, t in enumerate(tags)}\n",
        "\n",
        "print(classification_report(y_test.ravel(), \n",
        "                            predict.ravel(),\n",
        "                            labels=list(idx2tag.keys()), \n",
        "                            target_names=list(idx2tag.values())))"
      ],
      "metadata": {
        "id": "MRSwcxIrsMsh",
        "colab": {
          "base_uri": "https://localhost:8080/"
        },
        "outputId": "37487aa4-b427-4dad-b170-271bbb7ee99d"
      },
      "execution_count": 32,
      "outputs": [
        {
          "output_type": "stream",
          "name": "stderr",
          "text": [
            "/usr/local/lib/python3.7/dist-packages/sklearn/metrics/_classification.py:1318: UndefinedMetricWarning: Precision and F-score are ill-defined and being set to 0.0 in labels with no predicted samples. Use `zero_division` parameter to control this behavior.\n",
            "  _warn_prf(average, modifier, msg_start, len(result))\n"
          ]
        },
        {
          "output_type": "stream",
          "name": "stdout",
          "text": [
            "                       precision    recall  f1-score   support\n",
            "\n",
            "       I-ORGANIZATION       0.96      0.96      0.96      2542\n",
            "         I-PATIENT_ID       0.00      0.00      0.00        11\n",
            "               B-NAME       0.96      0.94      0.95       348\n",
            "       B-ORGANIZATION       0.94      0.95      0.95      1135\n",
            "         B-PATIENT_ID       0.97      1.00      0.98      3220\n",
            "                B-AGE       0.91      0.95      0.93       682\n",
            "B-SYMPTOM_AND_DISEASE       0.97      0.97      0.97      1439\n",
            "                    O       1.00      1.00      1.00    449841\n",
            "                I-AGE       0.00      0.00      0.00         2\n",
            "               I-NAME       0.00      0.00      0.00        13\n",
            "               B-DATE       0.99      0.99      0.99      2549\n",
            "     B-TRANSPORTATION       0.98      0.95      0.97       226\n",
            "                I-JOB       0.93      0.44      0.59        62\n",
            "               I-DATE       0.97      1.00      0.98      2500\n",
            "                B-JOB       0.85      0.62      0.72       205\n",
            "             B-GENDER       0.90      0.95      0.93       542\n",
            "I-SYMPTOM_AND_DISEASE       0.97      0.97      0.97      1552\n",
            "     I-TRANSPORTATION       0.97      0.90      0.93        67\n",
            "           I-LOCATION       0.96      0.97      0.97      5235\n",
            "           B-LOCATION       0.97      0.98      0.97      5394\n",
            "\n",
            "             accuracy                           1.00    477565\n",
            "            macro avg       0.81      0.78      0.79    477565\n",
            "         weighted avg       1.00      1.00      1.00    477565\n",
            "\n"
          ]
        },
        {
          "output_type": "stream",
          "name": "stderr",
          "text": [
            "/usr/local/lib/python3.7/dist-packages/sklearn/metrics/_classification.py:1318: UndefinedMetricWarning: Precision and F-score are ill-defined and being set to 0.0 in labels with no predicted samples. Use `zero_division` parameter to control this behavior.\n",
            "  _warn_prf(average, modifier, msg_start, len(result))\n",
            "/usr/local/lib/python3.7/dist-packages/sklearn/metrics/_classification.py:1318: UndefinedMetricWarning: Precision and F-score are ill-defined and being set to 0.0 in labels with no predicted samples. Use `zero_division` parameter to control this behavior.\n",
            "  _warn_prf(average, modifier, msg_start, len(result))\n"
          ]
        }
      ]
    },
    {
      "cell_type": "markdown",
      "source": [
        "## Lưu lại mô hình và bộ trọng số"
      ],
      "metadata": {
        "id": "CaxeLfxjsi7S"
      }
    },
    {
      "cell_type": "code",
      "source": [
        "from keras.models import save_model\n",
        "save_model(model, filepath='/content/drive/MyDrive/Colab Notebooks/DS310-NLTK/Buổi 2/lstm_cau_22_BTTH2.h5')"
      ],
      "metadata": {
        "id": "gGBAMbNasjQK"
      },
      "execution_count": 33,
      "outputs": []
    }
  ]
}
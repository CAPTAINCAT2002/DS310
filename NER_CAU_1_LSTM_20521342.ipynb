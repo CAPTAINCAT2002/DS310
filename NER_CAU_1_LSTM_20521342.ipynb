{
  "nbformat": 4,
  "nbformat_minor": 0,
  "metadata": {
    "colab": {
      "provenance": [],
      "collapsed_sections": [
        "i_4kHUK_YS4q"
      ]
    },
    "kernelspec": {
      "name": "python3",
      "display_name": "Python 3"
    },
    "language_info": {
      "name": "python"
    },
    "accelerator": "GPU"
  },
  "cells": [
    {
      "cell_type": "code",
      "metadata": {
        "id": "IeWsfNqikGh8",
        "colab": {
          "base_uri": "https://localhost:8080/"
        },
        "outputId": "d85bb552-fe5f-4fdf-a6fa-80cab1fe9ef4"
      },
      "source": [
        "from google.colab import drive\n",
        "drive.mount('/content/drive')"
      ],
      "execution_count": 26,
      "outputs": [
        {
          "output_type": "stream",
          "name": "stdout",
          "text": [
            "Drive already mounted at /content/drive; to attempt to forcibly remount, call drive.mount(\"/content/drive\", force_remount=True).\n"
          ]
        }
      ]
    },
    {
      "cell_type": "markdown",
      "metadata": {
        "id": "yTWomfEpX6dS"
      },
      "source": [
        "# Bước 1: Import Modules"
      ]
    },
    {
      "cell_type": "code",
      "metadata": {
        "id": "ok2BrtLZAItY"
      },
      "source": [
        "import matplotlib.pyplot as plt\n",
        "import pandas as pd\n",
        "import numpy as np\n",
        "import tensorflow as tf"
      ],
      "execution_count": 27,
      "outputs": []
    },
    {
      "cell_type": "markdown",
      "metadata": {
        "id": "i_4kHUK_YS4q"
      },
      "source": [
        "# Bước 2: Load bộ dữ liệu NER\n",
        "\n",
        "Sau khi đọc tập dữ liệu, chúng ta quan sát thử 50 dòng đầu tiên như thế nào.\n"
      ]
    },
    {
      "cell_type": "code",
      "metadata": {
        "id": "kLDDAkTrC_-x",
        "colab": {
          "base_uri": "https://localhost:8080/",
          "height": 1000
        },
        "outputId": "2b70162d-ebe2-4c1a-e709-dee03bfef4c4"
      },
      "source": [
        "data = pd.read_csv('/content/drive/MyDrive/Ds310/ner_dataset.csv', encoding=\"latin1\")\n",
        "data = data.fillna(method=\"ffill\")\n",
        "data.head(50)"
      ],
      "execution_count": 28,
      "outputs": [
        {
          "output_type": "execute_result",
          "data": {
            "text/plain": [
              "     Sentence #           Word  POS    Tag\n",
              "0   Sentence: 1      Thousands  NNS      O\n",
              "1   Sentence: 1             of   IN      O\n",
              "2   Sentence: 1  demonstrators  NNS      O\n",
              "3   Sentence: 1           have  VBP      O\n",
              "4   Sentence: 1        marched  VBN      O\n",
              "5   Sentence: 1        through   IN      O\n",
              "6   Sentence: 1         London  NNP  B-geo\n",
              "7   Sentence: 1             to   TO      O\n",
              "8   Sentence: 1        protest   VB      O\n",
              "9   Sentence: 1            the   DT      O\n",
              "10  Sentence: 1            war   NN      O\n",
              "11  Sentence: 1             in   IN      O\n",
              "12  Sentence: 1           Iraq  NNP  B-geo\n",
              "13  Sentence: 1            and   CC      O\n",
              "14  Sentence: 1         demand   VB      O\n",
              "15  Sentence: 1            the   DT      O\n",
              "16  Sentence: 1     withdrawal   NN      O\n",
              "17  Sentence: 1             of   IN      O\n",
              "18  Sentence: 1        British   JJ  B-gpe\n",
              "19  Sentence: 1         troops  NNS      O\n",
              "20  Sentence: 1           from   IN      O\n",
              "21  Sentence: 1           that   DT      O\n",
              "22  Sentence: 1        country   NN      O\n",
              "23  Sentence: 1              .    .      O\n",
              "24  Sentence: 2       Families  NNS      O\n",
              "25  Sentence: 2             of   IN      O\n",
              "26  Sentence: 2       soldiers  NNS      O\n",
              "27  Sentence: 2         killed  VBN      O\n",
              "28  Sentence: 2             in   IN      O\n",
              "29  Sentence: 2            the   DT      O\n",
              "30  Sentence: 2       conflict   NN      O\n",
              "31  Sentence: 2         joined  VBD      O\n",
              "32  Sentence: 2            the   DT      O\n",
              "33  Sentence: 2     protesters  NNS      O\n",
              "34  Sentence: 2            who   WP      O\n",
              "35  Sentence: 2        carried  VBD      O\n",
              "36  Sentence: 2        banners  NNS      O\n",
              "37  Sentence: 2           with   IN      O\n",
              "38  Sentence: 2           such   JJ      O\n",
              "39  Sentence: 2        slogans  NNS      O\n",
              "40  Sentence: 2             as   IN      O\n",
              "41  Sentence: 2              \"   ``      O\n",
              "42  Sentence: 2           Bush  NNP  B-per\n",
              "43  Sentence: 2         Number   NN      O\n",
              "44  Sentence: 2            One   CD      O\n",
              "45  Sentence: 2      Terrorist   NN      O\n",
              "46  Sentence: 2              \"   ``      O\n",
              "47  Sentence: 2            and   CC      O\n",
              "48  Sentence: 2              \"   ``      O\n",
              "49  Sentence: 2           Stop   VB      O"
            ],
            "text/html": [
              "\n",
              "  <div id=\"df-9a4a0876-0849-4921-92c2-2075063de149\">\n",
              "    <div class=\"colab-df-container\">\n",
              "      <div>\n",
              "<style scoped>\n",
              "    .dataframe tbody tr th:only-of-type {\n",
              "        vertical-align: middle;\n",
              "    }\n",
              "\n",
              "    .dataframe tbody tr th {\n",
              "        vertical-align: top;\n",
              "    }\n",
              "\n",
              "    .dataframe thead th {\n",
              "        text-align: right;\n",
              "    }\n",
              "</style>\n",
              "<table border=\"1\" class=\"dataframe\">\n",
              "  <thead>\n",
              "    <tr style=\"text-align: right;\">\n",
              "      <th></th>\n",
              "      <th>Sentence #</th>\n",
              "      <th>Word</th>\n",
              "      <th>POS</th>\n",
              "      <th>Tag</th>\n",
              "    </tr>\n",
              "  </thead>\n",
              "  <tbody>\n",
              "    <tr>\n",
              "      <th>0</th>\n",
              "      <td>Sentence: 1</td>\n",
              "      <td>Thousands</td>\n",
              "      <td>NNS</td>\n",
              "      <td>O</td>\n",
              "    </tr>\n",
              "    <tr>\n",
              "      <th>1</th>\n",
              "      <td>Sentence: 1</td>\n",
              "      <td>of</td>\n",
              "      <td>IN</td>\n",
              "      <td>O</td>\n",
              "    </tr>\n",
              "    <tr>\n",
              "      <th>2</th>\n",
              "      <td>Sentence: 1</td>\n",
              "      <td>demonstrators</td>\n",
              "      <td>NNS</td>\n",
              "      <td>O</td>\n",
              "    </tr>\n",
              "    <tr>\n",
              "      <th>3</th>\n",
              "      <td>Sentence: 1</td>\n",
              "      <td>have</td>\n",
              "      <td>VBP</td>\n",
              "      <td>O</td>\n",
              "    </tr>\n",
              "    <tr>\n",
              "      <th>4</th>\n",
              "      <td>Sentence: 1</td>\n",
              "      <td>marched</td>\n",
              "      <td>VBN</td>\n",
              "      <td>O</td>\n",
              "    </tr>\n",
              "    <tr>\n",
              "      <th>5</th>\n",
              "      <td>Sentence: 1</td>\n",
              "      <td>through</td>\n",
              "      <td>IN</td>\n",
              "      <td>O</td>\n",
              "    </tr>\n",
              "    <tr>\n",
              "      <th>6</th>\n",
              "      <td>Sentence: 1</td>\n",
              "      <td>London</td>\n",
              "      <td>NNP</td>\n",
              "      <td>B-geo</td>\n",
              "    </tr>\n",
              "    <tr>\n",
              "      <th>7</th>\n",
              "      <td>Sentence: 1</td>\n",
              "      <td>to</td>\n",
              "      <td>TO</td>\n",
              "      <td>O</td>\n",
              "    </tr>\n",
              "    <tr>\n",
              "      <th>8</th>\n",
              "      <td>Sentence: 1</td>\n",
              "      <td>protest</td>\n",
              "      <td>VB</td>\n",
              "      <td>O</td>\n",
              "    </tr>\n",
              "    <tr>\n",
              "      <th>9</th>\n",
              "      <td>Sentence: 1</td>\n",
              "      <td>the</td>\n",
              "      <td>DT</td>\n",
              "      <td>O</td>\n",
              "    </tr>\n",
              "    <tr>\n",
              "      <th>10</th>\n",
              "      <td>Sentence: 1</td>\n",
              "      <td>war</td>\n",
              "      <td>NN</td>\n",
              "      <td>O</td>\n",
              "    </tr>\n",
              "    <tr>\n",
              "      <th>11</th>\n",
              "      <td>Sentence: 1</td>\n",
              "      <td>in</td>\n",
              "      <td>IN</td>\n",
              "      <td>O</td>\n",
              "    </tr>\n",
              "    <tr>\n",
              "      <th>12</th>\n",
              "      <td>Sentence: 1</td>\n",
              "      <td>Iraq</td>\n",
              "      <td>NNP</td>\n",
              "      <td>B-geo</td>\n",
              "    </tr>\n",
              "    <tr>\n",
              "      <th>13</th>\n",
              "      <td>Sentence: 1</td>\n",
              "      <td>and</td>\n",
              "      <td>CC</td>\n",
              "      <td>O</td>\n",
              "    </tr>\n",
              "    <tr>\n",
              "      <th>14</th>\n",
              "      <td>Sentence: 1</td>\n",
              "      <td>demand</td>\n",
              "      <td>VB</td>\n",
              "      <td>O</td>\n",
              "    </tr>\n",
              "    <tr>\n",
              "      <th>15</th>\n",
              "      <td>Sentence: 1</td>\n",
              "      <td>the</td>\n",
              "      <td>DT</td>\n",
              "      <td>O</td>\n",
              "    </tr>\n",
              "    <tr>\n",
              "      <th>16</th>\n",
              "      <td>Sentence: 1</td>\n",
              "      <td>withdrawal</td>\n",
              "      <td>NN</td>\n",
              "      <td>O</td>\n",
              "    </tr>\n",
              "    <tr>\n",
              "      <th>17</th>\n",
              "      <td>Sentence: 1</td>\n",
              "      <td>of</td>\n",
              "      <td>IN</td>\n",
              "      <td>O</td>\n",
              "    </tr>\n",
              "    <tr>\n",
              "      <th>18</th>\n",
              "      <td>Sentence: 1</td>\n",
              "      <td>British</td>\n",
              "      <td>JJ</td>\n",
              "      <td>B-gpe</td>\n",
              "    </tr>\n",
              "    <tr>\n",
              "      <th>19</th>\n",
              "      <td>Sentence: 1</td>\n",
              "      <td>troops</td>\n",
              "      <td>NNS</td>\n",
              "      <td>O</td>\n",
              "    </tr>\n",
              "    <tr>\n",
              "      <th>20</th>\n",
              "      <td>Sentence: 1</td>\n",
              "      <td>from</td>\n",
              "      <td>IN</td>\n",
              "      <td>O</td>\n",
              "    </tr>\n",
              "    <tr>\n",
              "      <th>21</th>\n",
              "      <td>Sentence: 1</td>\n",
              "      <td>that</td>\n",
              "      <td>DT</td>\n",
              "      <td>O</td>\n",
              "    </tr>\n",
              "    <tr>\n",
              "      <th>22</th>\n",
              "      <td>Sentence: 1</td>\n",
              "      <td>country</td>\n",
              "      <td>NN</td>\n",
              "      <td>O</td>\n",
              "    </tr>\n",
              "    <tr>\n",
              "      <th>23</th>\n",
              "      <td>Sentence: 1</td>\n",
              "      <td>.</td>\n",
              "      <td>.</td>\n",
              "      <td>O</td>\n",
              "    </tr>\n",
              "    <tr>\n",
              "      <th>24</th>\n",
              "      <td>Sentence: 2</td>\n",
              "      <td>Families</td>\n",
              "      <td>NNS</td>\n",
              "      <td>O</td>\n",
              "    </tr>\n",
              "    <tr>\n",
              "      <th>25</th>\n",
              "      <td>Sentence: 2</td>\n",
              "      <td>of</td>\n",
              "      <td>IN</td>\n",
              "      <td>O</td>\n",
              "    </tr>\n",
              "    <tr>\n",
              "      <th>26</th>\n",
              "      <td>Sentence: 2</td>\n",
              "      <td>soldiers</td>\n",
              "      <td>NNS</td>\n",
              "      <td>O</td>\n",
              "    </tr>\n",
              "    <tr>\n",
              "      <th>27</th>\n",
              "      <td>Sentence: 2</td>\n",
              "      <td>killed</td>\n",
              "      <td>VBN</td>\n",
              "      <td>O</td>\n",
              "    </tr>\n",
              "    <tr>\n",
              "      <th>28</th>\n",
              "      <td>Sentence: 2</td>\n",
              "      <td>in</td>\n",
              "      <td>IN</td>\n",
              "      <td>O</td>\n",
              "    </tr>\n",
              "    <tr>\n",
              "      <th>29</th>\n",
              "      <td>Sentence: 2</td>\n",
              "      <td>the</td>\n",
              "      <td>DT</td>\n",
              "      <td>O</td>\n",
              "    </tr>\n",
              "    <tr>\n",
              "      <th>30</th>\n",
              "      <td>Sentence: 2</td>\n",
              "      <td>conflict</td>\n",
              "      <td>NN</td>\n",
              "      <td>O</td>\n",
              "    </tr>\n",
              "    <tr>\n",
              "      <th>31</th>\n",
              "      <td>Sentence: 2</td>\n",
              "      <td>joined</td>\n",
              "      <td>VBD</td>\n",
              "      <td>O</td>\n",
              "    </tr>\n",
              "    <tr>\n",
              "      <th>32</th>\n",
              "      <td>Sentence: 2</td>\n",
              "      <td>the</td>\n",
              "      <td>DT</td>\n",
              "      <td>O</td>\n",
              "    </tr>\n",
              "    <tr>\n",
              "      <th>33</th>\n",
              "      <td>Sentence: 2</td>\n",
              "      <td>protesters</td>\n",
              "      <td>NNS</td>\n",
              "      <td>O</td>\n",
              "    </tr>\n",
              "    <tr>\n",
              "      <th>34</th>\n",
              "      <td>Sentence: 2</td>\n",
              "      <td>who</td>\n",
              "      <td>WP</td>\n",
              "      <td>O</td>\n",
              "    </tr>\n",
              "    <tr>\n",
              "      <th>35</th>\n",
              "      <td>Sentence: 2</td>\n",
              "      <td>carried</td>\n",
              "      <td>VBD</td>\n",
              "      <td>O</td>\n",
              "    </tr>\n",
              "    <tr>\n",
              "      <th>36</th>\n",
              "      <td>Sentence: 2</td>\n",
              "      <td>banners</td>\n",
              "      <td>NNS</td>\n",
              "      <td>O</td>\n",
              "    </tr>\n",
              "    <tr>\n",
              "      <th>37</th>\n",
              "      <td>Sentence: 2</td>\n",
              "      <td>with</td>\n",
              "      <td>IN</td>\n",
              "      <td>O</td>\n",
              "    </tr>\n",
              "    <tr>\n",
              "      <th>38</th>\n",
              "      <td>Sentence: 2</td>\n",
              "      <td>such</td>\n",
              "      <td>JJ</td>\n",
              "      <td>O</td>\n",
              "    </tr>\n",
              "    <tr>\n",
              "      <th>39</th>\n",
              "      <td>Sentence: 2</td>\n",
              "      <td>slogans</td>\n",
              "      <td>NNS</td>\n",
              "      <td>O</td>\n",
              "    </tr>\n",
              "    <tr>\n",
              "      <th>40</th>\n",
              "      <td>Sentence: 2</td>\n",
              "      <td>as</td>\n",
              "      <td>IN</td>\n",
              "      <td>O</td>\n",
              "    </tr>\n",
              "    <tr>\n",
              "      <th>41</th>\n",
              "      <td>Sentence: 2</td>\n",
              "      <td>\"</td>\n",
              "      <td>``</td>\n",
              "      <td>O</td>\n",
              "    </tr>\n",
              "    <tr>\n",
              "      <th>42</th>\n",
              "      <td>Sentence: 2</td>\n",
              "      <td>Bush</td>\n",
              "      <td>NNP</td>\n",
              "      <td>B-per</td>\n",
              "    </tr>\n",
              "    <tr>\n",
              "      <th>43</th>\n",
              "      <td>Sentence: 2</td>\n",
              "      <td>Number</td>\n",
              "      <td>NN</td>\n",
              "      <td>O</td>\n",
              "    </tr>\n",
              "    <tr>\n",
              "      <th>44</th>\n",
              "      <td>Sentence: 2</td>\n",
              "      <td>One</td>\n",
              "      <td>CD</td>\n",
              "      <td>O</td>\n",
              "    </tr>\n",
              "    <tr>\n",
              "      <th>45</th>\n",
              "      <td>Sentence: 2</td>\n",
              "      <td>Terrorist</td>\n",
              "      <td>NN</td>\n",
              "      <td>O</td>\n",
              "    </tr>\n",
              "    <tr>\n",
              "      <th>46</th>\n",
              "      <td>Sentence: 2</td>\n",
              "      <td>\"</td>\n",
              "      <td>``</td>\n",
              "      <td>O</td>\n",
              "    </tr>\n",
              "    <tr>\n",
              "      <th>47</th>\n",
              "      <td>Sentence: 2</td>\n",
              "      <td>and</td>\n",
              "      <td>CC</td>\n",
              "      <td>O</td>\n",
              "    </tr>\n",
              "    <tr>\n",
              "      <th>48</th>\n",
              "      <td>Sentence: 2</td>\n",
              "      <td>\"</td>\n",
              "      <td>``</td>\n",
              "      <td>O</td>\n",
              "    </tr>\n",
              "    <tr>\n",
              "      <th>49</th>\n",
              "      <td>Sentence: 2</td>\n",
              "      <td>Stop</td>\n",
              "      <td>VB</td>\n",
              "      <td>O</td>\n",
              "    </tr>\n",
              "  </tbody>\n",
              "</table>\n",
              "</div>\n",
              "      <button class=\"colab-df-convert\" onclick=\"convertToInteractive('df-9a4a0876-0849-4921-92c2-2075063de149')\"\n",
              "              title=\"Convert this dataframe to an interactive table.\"\n",
              "              style=\"display:none;\">\n",
              "        \n",
              "  <svg xmlns=\"http://www.w3.org/2000/svg\" height=\"24px\"viewBox=\"0 0 24 24\"\n",
              "       width=\"24px\">\n",
              "    <path d=\"M0 0h24v24H0V0z\" fill=\"none\"/>\n",
              "    <path d=\"M18.56 5.44l.94 2.06.94-2.06 2.06-.94-2.06-.94-.94-2.06-.94 2.06-2.06.94zm-11 1L8.5 8.5l.94-2.06 2.06-.94-2.06-.94L8.5 2.5l-.94 2.06-2.06.94zm10 10l.94 2.06.94-2.06 2.06-.94-2.06-.94-.94-2.06-.94 2.06-2.06.94z\"/><path d=\"M17.41 7.96l-1.37-1.37c-.4-.4-.92-.59-1.43-.59-.52 0-1.04.2-1.43.59L10.3 9.45l-7.72 7.72c-.78.78-.78 2.05 0 2.83L4 21.41c.39.39.9.59 1.41.59.51 0 1.02-.2 1.41-.59l7.78-7.78 2.81-2.81c.8-.78.8-2.07 0-2.86zM5.41 20L4 18.59l7.72-7.72 1.47 1.35L5.41 20z\"/>\n",
              "  </svg>\n",
              "      </button>\n",
              "      \n",
              "  <style>\n",
              "    .colab-df-container {\n",
              "      display:flex;\n",
              "      flex-wrap:wrap;\n",
              "      gap: 12px;\n",
              "    }\n",
              "\n",
              "    .colab-df-convert {\n",
              "      background-color: #E8F0FE;\n",
              "      border: none;\n",
              "      border-radius: 50%;\n",
              "      cursor: pointer;\n",
              "      display: none;\n",
              "      fill: #1967D2;\n",
              "      height: 32px;\n",
              "      padding: 0 0 0 0;\n",
              "      width: 32px;\n",
              "    }\n",
              "\n",
              "    .colab-df-convert:hover {\n",
              "      background-color: #E2EBFA;\n",
              "      box-shadow: 0px 1px 2px rgba(60, 64, 67, 0.3), 0px 1px 3px 1px rgba(60, 64, 67, 0.15);\n",
              "      fill: #174EA6;\n",
              "    }\n",
              "\n",
              "    [theme=dark] .colab-df-convert {\n",
              "      background-color: #3B4455;\n",
              "      fill: #D2E3FC;\n",
              "    }\n",
              "\n",
              "    [theme=dark] .colab-df-convert:hover {\n",
              "      background-color: #434B5C;\n",
              "      box-shadow: 0px 1px 3px 1px rgba(0, 0, 0, 0.15);\n",
              "      filter: drop-shadow(0px 1px 2px rgba(0, 0, 0, 0.3));\n",
              "      fill: #FFFFFF;\n",
              "    }\n",
              "  </style>\n",
              "\n",
              "      <script>\n",
              "        const buttonEl =\n",
              "          document.querySelector('#df-9a4a0876-0849-4921-92c2-2075063de149 button.colab-df-convert');\n",
              "        buttonEl.style.display =\n",
              "          google.colab.kernel.accessAllowed ? 'block' : 'none';\n",
              "\n",
              "        async function convertToInteractive(key) {\n",
              "          const element = document.querySelector('#df-9a4a0876-0849-4921-92c2-2075063de149');\n",
              "          const dataTable =\n",
              "            await google.colab.kernel.invokeFunction('convertToInteractive',\n",
              "                                                     [key], {});\n",
              "          if (!dataTable) return;\n",
              "\n",
              "          const docLinkHtml = 'Like what you see? Visit the ' +\n",
              "            '<a target=\"_blank\" href=https://colab.research.google.com/notebooks/data_table.ipynb>data table notebook</a>'\n",
              "            + ' to learn more about interactive tables.';\n",
              "          element.innerHTML = '';\n",
              "          dataTable['output_type'] = 'display_data';\n",
              "          await google.colab.output.renderOutput(dataTable, element);\n",
              "          const docLink = document.createElement('div');\n",
              "          docLink.innerHTML = docLinkHtml;\n",
              "          element.appendChild(docLink);\n",
              "        }\n",
              "      </script>\n",
              "    </div>\n",
              "  </div>\n",
              "  "
            ]
          },
          "metadata": {},
          "execution_count": 28
        }
      ]
    },
    {
      "cell_type": "markdown",
      "metadata": {
        "id": "Hvc2uwATZm8f"
      },
      "source": [
        "#Visualizing \n",
        "Thông kê bộ dữ liệu:\n",
        "- Số lượng từ duy nhất trong kho ngữ liệu. (Tập từ vựng, số chiều)\n",
        "- Số lượng thẻ duy nhất trong tập dữ liệu. (Tập nhãn)\n",
        "\n",
        "\n",
        "Bằng cách sử dụng hàm **“nunique”.**"
      ]
    },
    {
      "cell_type": "code",
      "metadata": {
        "id": "foji0Z5-DACL",
        "colab": {
          "base_uri": "https://localhost:8080/"
        },
        "outputId": "4d69725a-aa26-4591-8401-552718bd0c02"
      },
      "source": [
        "print(\"Unique words in corpus:\", data['Word'].nunique())\n",
        "print(\"Unique tags in corpus:\", data['Tag'].nunique())"
      ],
      "execution_count": 29,
      "outputs": [
        {
          "output_type": "stream",
          "name": "stdout",
          "text": [
            "Unique words in corpus: 35178\n",
            "Unique tags in corpus: 17\n"
          ]
        }
      ]
    },
    {
      "cell_type": "markdown",
      "metadata": {
        "id": "9Ih-dU2ibjC5"
      },
      "source": [
        "Tạo một danh sách và sử dụng phương thức set() để lấy các giá trị trong cột “word” và loại bỏ giá trị trùng.\\\n",
        "Thêm phần đệm có tên “Endpad”.\n"
      ]
    },
    {
      "cell_type": "code",
      "metadata": {
        "id": "9QdG8q_xD2MR"
      },
      "source": [
        "#tạo tập từ vựng\n",
        "words = list(set(data[\"Word\"].values))\n",
        "words.append(\"ENDPAD\")\n",
        "num_words = len(words)"
      ],
      "execution_count": 30,
      "outputs": []
    },
    {
      "cell_type": "code",
      "metadata": {
        "id": "STf-MXyND2Po"
      },
      "source": [
        "#tạo tập nhãn tương tự như trên\n",
        "# tags = ?\n",
        "# num_tags = ?\n",
        "tags = list(set(data[\"Tag\"].values))\n",
        "num_tags = len(tags)"
      ],
      "execution_count": 31,
      "outputs": []
    },
    {
      "cell_type": "markdown",
      "metadata": {
        "id": "YjkABYEfcm9S"
      },
      "source": [
        "# Bước 3: Lấy các câu và các thẻ tương ứng"
      ]
    },
    {
      "cell_type": "code",
      "metadata": {
        "id": "ZeMYGQ7LD2Yx"
      },
      "source": [
        "class SentenceGetter(object):\n",
        "    def __init__(self, data):\n",
        "        self.n_sent = 1\n",
        "        self.data = data\n",
        "        self.empty = False\n",
        "        agg_func = lambda s: [(w, p, t) for w, p, t in zip(s[\"Word\"].values.tolist(),\n",
        "                                                           s[\"POS\"].values.tolist(),\n",
        "                                                           s[\"Tag\"].values.tolist())]\n",
        "        self.grouped = self.data.groupby(\"Sentence #\").apply(agg_func)\n",
        "        self.sentences = [s for s in self.grouped]\n",
        "  "
      ],
      "execution_count": 32,
      "outputs": []
    },
    {
      "cell_type": "code",
      "metadata": {
        "id": "Sru0NB5HEZ2i"
      },
      "source": [
        "getter = SentenceGetter(data)\n",
        "sentences = getter.sentences"
      ],
      "execution_count": 33,
      "outputs": []
    },
    {
      "cell_type": "markdown",
      "source": [],
      "metadata": {
        "id": "fRzExg6_OqNp"
      }
    },
    {
      "cell_type": "code",
      "metadata": {
        "id": "RSbYX604EZ7v",
        "colab": {
          "base_uri": "https://localhost:8080/"
        },
        "outputId": "be6b5bc7-2e6a-4e08-c6e5-0f221ee1d1d7"
      },
      "source": [
        "sentences[0]"
      ],
      "execution_count": 34,
      "outputs": [
        {
          "output_type": "execute_result",
          "data": {
            "text/plain": [
              "[('Thousands', 'NNS', 'O'),\n",
              " ('of', 'IN', 'O'),\n",
              " ('demonstrators', 'NNS', 'O'),\n",
              " ('have', 'VBP', 'O'),\n",
              " ('marched', 'VBN', 'O'),\n",
              " ('through', 'IN', 'O'),\n",
              " ('London', 'NNP', 'B-geo'),\n",
              " ('to', 'TO', 'O'),\n",
              " ('protest', 'VB', 'O'),\n",
              " ('the', 'DT', 'O'),\n",
              " ('war', 'NN', 'O'),\n",
              " ('in', 'IN', 'O'),\n",
              " ('Iraq', 'NNP', 'B-geo'),\n",
              " ('and', 'CC', 'O'),\n",
              " ('demand', 'VB', 'O'),\n",
              " ('the', 'DT', 'O'),\n",
              " ('withdrawal', 'NN', 'O'),\n",
              " ('of', 'IN', 'O'),\n",
              " ('British', 'JJ', 'B-gpe'),\n",
              " ('troops', 'NNS', 'O'),\n",
              " ('from', 'IN', 'O'),\n",
              " ('that', 'DT', 'O'),\n",
              " ('country', 'NN', 'O'),\n",
              " ('.', '.', 'O')]"
            ]
          },
          "metadata": {},
          "execution_count": 34
        }
      ]
    },
    {
      "cell_type": "markdown",
      "metadata": {
        "id": "XojZjemOdEOC"
      },
      "source": [
        "# Bước 4: Ánh xạ giữa các câu và chỉ mục\n",
        "Chúng ta có thể thấy rằng mỗi từ được gán cho một thẻ duy nhất. Chúng tôi có thể truy xuất những từ này bằng cách sử dụng các chỉ số của chúng và tra cứu chúng trong từ điển và trả về các khóa tương ứng.\n"
      ]
    },
    {
      "cell_type": "code",
      "metadata": {
        "id": "KzmuYP_CEZ-l"
      },
      "source": [
        "word2idx = {w:  i for i, w in enumerate(words)}\n",
        "tag2idx = {t: i for i, t in enumerate(tags)}"
      ],
      "execution_count": 35,
      "outputs": []
    },
    {
      "cell_type": "code",
      "metadata": {
        "id": "dQY8s4cKEvnw",
        "colab": {
          "base_uri": "https://localhost:8080/"
        },
        "outputId": "9562cd58-03a9-4511-f27b-3d2835eef7df"
      },
      "source": [
        "#word2idx\n",
        "word2idx[\"ENDPAD\"]\n",
        "tag2idx "
      ],
      "execution_count": 36,
      "outputs": [
        {
          "output_type": "execute_result",
          "data": {
            "text/plain": [
              "{'I-nat': 0,\n",
              " 'B-tim': 1,\n",
              " 'I-per': 2,\n",
              " 'I-geo': 3,\n",
              " 'B-nat': 4,\n",
              " 'I-eve': 5,\n",
              " 'I-gpe': 6,\n",
              " 'B-art': 7,\n",
              " 'B-gpe': 8,\n",
              " 'I-art': 9,\n",
              " 'B-eve': 10,\n",
              " 'I-org': 11,\n",
              " 'O': 12,\n",
              " 'I-tim': 13,\n",
              " 'B-per': 14,\n",
              " 'B-org': 15,\n",
              " 'B-geo': 16}"
            ]
          },
          "metadata": {},
          "execution_count": 36
        }
      ]
    },
    {
      "cell_type": "markdown",
      "metadata": {
        "id": "M4jHHTiNeHQD"
      },
      "source": [
        "#Bước 5: Padding  đầu vào và cắt dữ liệu thành tập Train/Test\\\n",
        "Trong trục X, có thể thấy độ dài an toàn của câu là khoảng 50."
      ]
    },
    {
      "cell_type": "code",
      "metadata": {
        "id": "QsaS9yuIEvqA",
        "colab": {
          "base_uri": "https://localhost:8080/",
          "height": 265
        },
        "outputId": "7f464ba0-de41-4b12-f879-a286d1be7324"
      },
      "source": [
        "#vẽ biểu đồ thể hiện phân bố chiều dài của câu trong tập dữ liệu.\n",
        "plt.hist([len(s) for s in sentences], bins=50)\n",
        "plt.show()"
      ],
      "execution_count": 37,
      "outputs": [
        {
          "output_type": "display_data",
          "data": {
            "text/plain": [
              "<Figure size 432x288 with 1 Axes>"
            ],
            "image/png": "[encoded data removed]"
          },
          "metadata": {
            "needs_background": "light"
          }
        }
      ]
    },
    {
      "cell_type": "markdown",
      "metadata": {
        "id": "45olb3GgimLa"
      },
      "source": [
        "- Sử dụng hàm pad_sequence() cho padding\n",
        "- X sẽ là một đại diện bằng số cho các từ. (sử dụng word2idx)\n",
        "- ‘Post’ chỉ là một giá trị của đối số đệm ở cuối câu.\n",
        "- X,y là vector"
      ]
    },
    {
      "cell_type": "code",
      "metadata": {
        "id": "MdhMd7c8Evrg"
      },
      "source": [
        "#ánh xạ từ trong câu và nhãn về index của nó\n",
        "from tensorflow.keras.preprocessing.sequence import pad_sequences\n",
        "#đặt max length cho phù hợp\n",
        "# max_len = ?\n",
        "max_len = 50\n",
        "\n",
        "X = [[word2idx[w[0]] for w in s] for s in sentences]\n",
        "X = pad_sequences(maxlen=max_len, sequences=X, padding=\"post\", value=num_words-1)\n",
        "\n",
        "#tương tự với nhãn\n",
        "# y = ?\n",
        "\n",
        "y = [[tag2idx[w[2]] for w in s] for s in sentences]\n",
        "y = pad_sequences(maxlen=max_len, sequences=y, padding=\"post\", value=tag2idx[\"O\"])\n",
        "\n",
        "\n"
      ],
      "execution_count": 38,
      "outputs": []
    },
    {
      "cell_type": "code",
      "metadata": {
        "id": "cdIeqfSChr3z",
        "colab": {
          "base_uri": "https://localhost:8080/"
        },
        "outputId": "51177a87-392d-4490-f1e4-089bad64f6ba"
      },
      "source": [
        "print(X[0])\n",
        "print(y[0])"
      ],
      "execution_count": 39,
      "outputs": [
        {
          "output_type": "stream",
          "name": "stdout",
          "text": [
            "[21379  1063 18697 25174 13963 13102 30089  8301 25294   781  7916  7591\n",
            " 28514 17032   219   781  2701  1063 23306 10781 28045 23606 31608 20048\n",
            " 35178 35178 35178 35178 35178 35178 35178 35178 35178 35178 35178 35178\n",
            " 35178 35178 35178 35178 35178 35178 35178 35178 35178 35178 35178 35178\n",
            " 35178 35178]\n",
            "[12 12 12 12 12 12 16 12 12 12 12 12 16 12 12 12 12 12  8 12 12 12 12 12\n",
            " 12 12 12 12 12 12 12 12 12 12 12 12 12 12 12 12 12 12 12 12 12 12 12 12\n",
            " 12 12]\n"
          ]
        }
      ]
    },
    {
      "cell_type": "markdown",
      "metadata": {
        "id": "SricyH2-jpe7"
      },
      "source": [
        "- test_size = 0.2 có nghĩa là 80% dữ liệu chia cho tập huấn luyện và 20% còn lại cho tập kiểm tra."
      ]
    },
    {
      "cell_type": "code",
      "metadata": {
        "id": "pTZXbacIEvth"
      },
      "source": [
        "from sklearn.model_selection import train_test_split \n",
        "# x_train, x_test, y_train, y_test = ?\n",
        "x_train, x_test, y_train, y_test = train_test_split(X, y, test_size=0.2, random_state=1)"
      ],
      "execution_count": 40,
      "outputs": []
    },
    {
      "cell_type": "markdown",
      "metadata": {
        "id": "4BX80iq9kHhf"
      },
      "source": [
        "# Bước 6: Xây dựng Mô hình LSTM hai chiều (bi-LSTM)\n"
      ]
    },
    {
      "cell_type": "code",
      "metadata": {
        "id": "XfT0mUF3F20e"
      },
      "source": [
        "from tensorflow.keras.models import Sequential\n",
        "from tensorflow.keras import Model, Input\n",
        "from tensorflow.keras.layers import LSTM, Embedding, Dense\n",
        "from tensorflow.keras.layers import TimeDistributed, SpatialDropout1D, Bidirectional"
      ],
      "execution_count": 41,
      "outputs": []
    },
    {
      "cell_type": "markdown",
      "metadata": {
        "id": "woxrXbQKlTdR"
      },
      "source": [
        "Bản tóm tắt cho thấy rằng chúng ta có hơn 1,8 triệu tham số cần được huấn luyện."
      ]
    },
    {
      "cell_type": "code",
      "metadata": {
        "id": "Lr4UtVstEvuz",
        "colab": {
          "base_uri": "https://localhost:8080/"
        },
        "outputId": "a17492bd-e43f-40bc-bcf4-26b71ae6f4a1"
      },
      "source": [
        "model = Sequential() #Yêu cầu khỏi tạo mạng LSTM 1 chiều\n",
        "\n",
        "# Input\n",
        "model.add(Input(shape=(max_len,)))\n",
        "# Embedding\n",
        "model.add(Embedding(input_dim=num_words, output_dim=50, input_length=50))\n",
        "# SpatialDropout1D\n",
        "model.add(SpatialDropout1D(0.1))\n",
        "# LSTM\n",
        "model.add(LSTM(units=100, return_sequences=True, recurrent_dropout=0.1))\n",
        "# TimeDistributed\n",
        "model.add(TimeDistributed(Dense(num_tags, activation='softmax')))\n",
        "\n",
        "model.summary()\n",
        "\n"
      ],
      "execution_count": 42,
      "outputs": [
        {
          "output_type": "stream",
          "name": "stdout",
          "text": [
            "Model: \"sequential_1\"\n",
            "_________________________________________________________________\n",
            " Layer (type)                Output Shape              Param #   \n",
            "=================================================================\n",
            " embedding_1 (Embedding)     (None, 50, 50)            1758950   \n",
            "                                                                 \n",
            " spatial_dropout1d_1 (Spatia  (None, 50, 50)           0         \n",
            " lDropout1D)                                                     \n",
            "                                                                 \n",
            " lstm_1 (LSTM)               (None, 50, 100)           60400     \n",
            "                                                                 \n",
            " time_distributed_1 (TimeDis  (None, 50, 17)           1717      \n",
            " tributed)                                                       \n",
            "                                                                 \n",
            "=================================================================\n",
            "Total params: 1,821,067\n",
            "Trainable params: 1,821,067\n",
            "Non-trainable params: 0\n",
            "_________________________________________________________________\n"
          ]
        }
      ]
    },
    {
      "cell_type": "markdown",
      "metadata": {
        "id": "3Fw5QXjJlyAy"
      },
      "source": [
        "- Sử dụng trình tối ưu hoá \"adam\"\n",
        "- sparce_categorical_crossentropy làm hàm mất mát\n",
        "- Ma trận mà chúng ta sẽ quan tâm là ma trận độ chính xác."
      ]
    },
    {
      "cell_type": "code",
      "metadata": {
        "id": "I5qKoUzREvwr"
      },
      "source": [
        "model.compile(optimizer=\"adam\",\n",
        "              loss=\"sparse_categorical_crossentropy\",\n",
        "              metrics=[\"accuracy\"])"
      ],
      "execution_count": 43,
      "outputs": []
    },
    {
      "cell_type": "markdown",
      "metadata": {
        "id": "Dc_jElQlmtEP"
      },
      "source": [
        "#Bước7: Huấn luyện Model"
      ]
    },
    {
      "cell_type": "markdown",
      "metadata": {
        "id": "xmPTE4emnSJ8"
      },
      "source": [
        "- Để bắt đầu huấn luyện là gọi model.fit ()\n",
        "- Có thể tăng kích thước batch_size nếu bạn có GPU có kích thước bộ nhớ lớn.\n",
        "\n"
      ]
    },
    {
      "cell_type": "code",
      "metadata": {
        "id": "wNg5eaGsGLX7",
        "colab": {
          "base_uri": "https://localhost:8080/"
        },
        "outputId": "df90bd07-64f5-4701-e259-0c871db34a86"
      },
      "source": [
        " \n",
        "# Các bạn nhớ là phải lưu mô hình khi train (có nhắc lại yêu cầu ở cuối) \n",
        "import time\n",
        "start_time = time.time()\n",
        "\n",
        "history = model.fit(\n",
        "    x=x_train,\n",
        "    y=y_train,\n",
        "    #validation_data=(x_test,y_test),\n",
        "    validation_split= 0.1,\n",
        "    batch_size= 32, \n",
        "    epochs=1,\n",
        "    verbose=1\n",
        ")\n",
        "print(\"[{}] Completed!\".format(time.time() - start_time))"
      ],
      "execution_count": 19,
      "outputs": [
        {
          "output_type": "stream",
          "name": "stdout",
          "text": [
            "1080/1080 [==============================] - 141s 127ms/step - loss: 0.2439 - accuracy: 0.9486 - val_loss: 0.1095 - val_accuracy: 0.9718\n",
            "[145.75064635276794] Completed!\n"
          ]
        }
      ]
    },
    {
      "cell_type": "markdown",
      "metadata": {
        "id": "S4VxiMpqoMF5"
      },
      "source": [
        "# Bước8: Đánh giá mô hình NER\n",
        "\n"
      ]
    },
    {
      "cell_type": "code",
      "metadata": {
        "id": "TWk9eXUKoHXg",
        "colab": {
          "base_uri": "https://localhost:8080/"
        },
        "outputId": "314d476a-9895-4adc-d15f-309a31dec0e4"
      },
      "source": [
        "model.evaluate(x_test, y_test)"
      ],
      "execution_count": 20,
      "outputs": [
        {
          "output_type": "stream",
          "name": "stdout",
          "text": [
            "300/300 [==============================] - 6s 20ms/step - loss: 0.1128 - accuracy: 0.9715\n"
          ]
        },
        {
          "output_type": "execute_result",
          "data": {
            "text/plain": [
              "[0.11278004199266434, 0.9715304374694824]"
            ]
          },
          "metadata": {},
          "execution_count": 20
        }
      ]
    },
    {
      "cell_type": "markdown",
      "metadata": {
        "id": "j--OVsRnocbZ"
      },
      "source": [
        "- Dự đoán"
      ]
    },
    {
      "cell_type": "code",
      "metadata": {
        "id": "rb9DEgbcGLbL",
        "colab": {
          "base_uri": "https://localhost:8080/"
        },
        "outputId": "724d04ba-c81b-49a6-f81b-5c69f9989aa0"
      },
      "source": [
        "#i = np.random.randint(0, x_test.shape[0]) #659\n",
        "print(x_test[1])\n",
        "i =10\n",
        "p = model.predict(np.array([x_test[i]]))\n",
        "\n",
        "p = np.argmax(p, axis=-1)\n",
        "y_true = y_test[i]\n",
        "print(\"{:15}{:5}\\t {}\\n\".format(\"Word\", \"True\", \"Pred\"))\n",
        "print(\"-\" *30)\n",
        "for w, true, pred in zip(x_test[i], y_true, p[0]):\n",
        "    print(\"{:15}{}\\t{}\".format(words[w-1], tags[true], tags[pred]))"
      ],
      "execution_count": 21,
      "outputs": [
        {
          "output_type": "stream",
          "name": "stdout",
          "text": [
            "[15797 29524 18067  9094 10526  4899 33826  6171 20129 13386  5867 17381\n",
            "  9474  7521 34354  4899 21063 29045  7521  9474  6393 24823 34129  7359\n",
            "  8937 23980 20048 24823 35178 35178 35178 35178 35178 35178 35178 35178\n",
            " 35178 35178 35178 35178 35178 35178 35178 35178 35178 35178 35178 35178\n",
            " 35178 35178]\n",
            "1/1 [==============================] - 0s 305ms/step\n",
            "Word           True \t Pred\n",
            "\n",
            "------------------------------\n",
            "My             O\tO\n",
            "unfounded      O\tO\n",
            "al-Shaalan     O\tO\n",
            "El~Fasher      O\tO\n",
            "infringe       O\tO\n",
            "Colombant      B-geo\tB-geo\n",
            "Judicial       O\tO\n",
            "Horizons       O\tO\n",
            "Judicial       O\tO\n",
            "Rodrigo        B-geo\tB-geo\n",
            "7.9            O\tO\n",
            "Kula           O\tO\n",
            "05-Mar         O\tO\n",
            "collaborators  O\tO\n",
            "Csongrad       O\tO\n",
            "second-seeded  O\tO\n",
            "Branco         O\tO\n",
            "suburban       O\tO\n",
            "incident       O\tO\n",
            "winds          O\tO\n",
            "stopping       O\tO\n",
            "That           O\tO\n",
            "landholders    O\tO\n",
            "landholders    O\tO\n",
            "landholders    O\tO\n",
            "landholders    O\tO\n",
            "landholders    O\tO\n",
            "landholders    O\tO\n",
            "landholders    O\tO\n",
            "landholders    O\tO\n",
            "landholders    O\tO\n",
            "landholders    O\tO\n",
            "landholders    O\tO\n",
            "landholders    O\tO\n",
            "landholders    O\tO\n",
            "landholders    O\tO\n",
            "landholders    O\tO\n",
            "landholders    O\tO\n",
            "landholders    O\tO\n",
            "landholders    O\tO\n",
            "landholders    O\tO\n",
            "landholders    O\tO\n",
            "landholders    O\tO\n",
            "landholders    O\tO\n",
            "landholders    O\tO\n",
            "landholders    O\tO\n",
            "landholders    O\tO\n",
            "landholders    O\tO\n",
            "landholders    O\tO\n",
            "landholders    O\tO\n"
          ]
        }
      ]
    },
    {
      "cell_type": "markdown",
      "metadata": {
        "id": "TYE4_FZFv2MY"
      },
      "source": []
    },
    {
      "cell_type": "code",
      "metadata": {
        "id": "kvdu_aUtR3YQ",
        "colab": {
          "base_uri": "https://localhost:8080/"
        },
        "outputId": "e2ed989a-d72f-4a9d-f802-b6eaa9a35357"
      },
      "source": [
        "# hoàn thành yêu cầu trong file thực hành tương ứng cho câu 1 và 2.\n",
        "y_pred = model.predict(x_test)\n",
        "y_pred = np.argmax(y_pred, axis=-1)"
      ],
      "execution_count": 22,
      "outputs": [
        {
          "output_type": "stream",
          "name": "stdout",
          "text": [
            "300/300 [==============================] - 5s 18ms/step\n"
          ]
        }
      ]
    },
    {
      "cell_type": "code",
      "source": [
        "from sklearn.metrics import f1_score, classification_report\n",
        "print('micro:', f1_score(y_test.flatten(), y_pred.flatten(), average='micro')*100)\n",
        "print('macro:', f1_score(y_test.flatten(), y_pred.flatten(), average='macro')*100)"
      ],
      "metadata": {
        "colab": {
          "base_uri": "https://localhost:8080/"
        },
        "id": "cy0muByTiNl-",
        "outputId": "3ee00a66-54eb-49ec-d0b4-f3e5ef78bab0"
      },
      "execution_count": 23,
      "outputs": [
        {
          "output_type": "stream",
          "name": "stdout",
          "text": [
            "micro: 97.15304420350292\n",
            "macro: 37.09279220801931\n"
          ]
        }
      ]
    },
    {
      "cell_type": "code",
      "source": [
        "print(classification_report(y_test.flatten(), y_pred.flatten(), target_names = tags))\n",
        "print('Accuracy:', model.evaluate(x_test, y_test)[1]*100)"
      ],
      "metadata": {
        "colab": {
          "base_uri": "https://localhost:8080/"
        },
        "id": "oWzCvWHGiSLx",
        "outputId": "c0d2c99b-ae4b-40b1-d294-819b3fd1b213"
      },
      "execution_count": 24,
      "outputs": [
        {
          "output_type": "stream",
          "name": "stderr",
          "text": [
            "/usr/local/lib/python3.7/dist-packages/sklearn/metrics/_classification.py:1318: UndefinedMetricWarning: Precision and F-score are ill-defined and being set to 0.0 in labels with no predicted samples. Use `zero_division` parameter to control this behavior.\n",
            "  _warn_prf(average, modifier, msg_start, len(result))\n",
            "/usr/local/lib/python3.7/dist-packages/sklearn/metrics/_classification.py:1318: UndefinedMetricWarning: Precision and F-score are ill-defined and being set to 0.0 in labels with no predicted samples. Use `zero_division` parameter to control this behavior.\n",
            "  _warn_prf(average, modifier, msg_start, len(result))\n",
            "/usr/local/lib/python3.7/dist-packages/sklearn/metrics/_classification.py:1318: UndefinedMetricWarning: Precision and F-score are ill-defined and being set to 0.0 in labels with no predicted samples. Use `zero_division` parameter to control this behavior.\n",
            "  _warn_prf(average, modifier, msg_start, len(result))\n"
          ]
        },
        {
          "output_type": "stream",
          "name": "stdout",
          "text": [
            "              precision    recall  f1-score   support\n",
            "\n",
            "       I-nat       0.00      0.00      0.00        12\n",
            "       B-tim       0.80      0.70      0.75      4102\n",
            "       I-per       0.58      0.85      0.69      3424\n",
            "       I-geo       0.67      0.57      0.61      1449\n",
            "       B-nat       0.00      0.00      0.00        38\n",
            "       I-eve       0.00      0.00      0.00        73\n",
            "       I-gpe       0.00      0.00      0.00        33\n",
            "       B-art       0.00      0.00      0.00        96\n",
            "       B-gpe       0.71      0.73      0.72      3173\n",
            "       I-art       0.00      0.00      0.00        86\n",
            "       B-eve       0.00      0.00      0.00        79\n",
            "       I-org       0.54      0.38      0.45      3254\n",
            "           O       0.99      1.00      0.99    447795\n",
            "       I-tim       0.89      0.23      0.37      1339\n",
            "       B-per       0.68      0.51      0.58      3359\n",
            "       B-org       0.63      0.29      0.40      3908\n",
            "       B-geo       0.67      0.83      0.74      7380\n",
            "\n",
            "    accuracy                           0.97    479600\n",
            "   macro avg       0.42      0.36      0.37    479600\n",
            "weighted avg       0.97      0.97      0.97    479600\n",
            "\n",
            "300/300 [==============================] - 6s 19ms/step - loss: 0.1128 - accuracy: 0.9715\n",
            "Accuracy: 97.15304374694824\n"
          ]
        }
      ]
    },
    {
      "cell_type": "markdown",
      "source": [
        "# Bước 9: lưu model\n",
        "\n",
        "Các bạn lưu lại model đã lưu và bộ trong số model"
      ],
      "metadata": {
        "id": "-usGGIQuA7qz"
      }
    },
    {
      "cell_type": "code",
      "source": [
        "from keras.models import save_model\n",
        "save_model(model, filepath='/content/drive/MyDrive/Ds310/Buổi 2/LSTM_cau_1_BTTH2.h5')"
      ],
      "metadata": {
        "id": "_GdBrPLsidlC"
      },
      "execution_count": 25,
      "outputs": []
    }
  ]
}
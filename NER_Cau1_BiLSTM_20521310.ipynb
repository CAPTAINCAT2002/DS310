{
  "cells": [
    {
      "cell_type": "code",
      "source": [
        "from google.colab import drive\n",
        "drive.mount('/content/drive')"
      ],
      "metadata": {
        "colab": {
          "base_uri": "https://localhost:8080/"
        },
        "id": "dUR6fytNLOtz",
        "outputId": "a7dde3f9-26ac-4c6d-8c23-60076ae17d3b"
      },
      "execution_count": 1,
      "outputs": [
        {
          "output_type": "stream",
          "name": "stdout",
          "text": [
            "Mounted at /content/drive\n"
          ]
        }
      ]
    },
    {
      "cell_type": "code",
      "source": [
        "%autosave 30"
      ],
      "metadata": {
        "id": "kENmfcLBSx6f",
        "outputId": "cf7ac714-0bee-4842-d797-06a41716e083",
        "colab": {
          "base_uri": "https://localhost:8080/",
          "height": 34
        }
      },
      "execution_count": 2,
      "outputs": [
        {
          "output_type": "display_data",
          "data": {
            "application/javascript": [
              "IPython.notebook.set_autosave_interval(30000)"
            ]
          },
          "metadata": {}
        },
        {
          "output_type": "stream",
          "name": "stdout",
          "text": [
            "Autosaving every 30 seconds\n"
          ]
        }
      ]
    },
    {
      "cell_type": "code",
      "execution_count": 3,
      "metadata": {
        "id": "ok2BrtLZAItY"
      },
      "outputs": [],
      "source": [
        "from matplotlib import pyplot as plt\n",
        "from matplotlib import style\n",
        "import pandas as pd\n",
        "import numpy as np\n",
        "import tensorflow as tf\n",
        "\n",
        "style.use(['ggplot'])"
      ]
    },
    {
      "cell_type": "markdown",
      "metadata": {
        "id": "i_4kHUK_YS4q"
      },
      "source": [
        "# Bước 2: Load bộ dữ liệu NER\n",
        "\n",
        "Sau khi đọc tập dữ liệu, chúng ta quan sát thử 50 dòng đầu tiên như thế nào.\n"
      ]
    },
    {
      "cell_type": "code",
      "execution_count": 4,
      "metadata": {
        "colab": {
          "base_uri": "https://localhost:8080/",
          "height": 1000
        },
        "id": "kLDDAkTrC_-x",
        "outputId": "9532dcbf-ccee-4f7d-af8b-a1dacbf6c935"
      },
      "outputs": [
        {
          "output_type": "execute_result",
          "data": {
            "text/plain": [
              "     Sentence #           Word  POS    Tag\n",
              "0   Sentence: 1      Thousands  NNS      O\n",
              "1   Sentence: 1             of   IN      O\n",
              "2   Sentence: 1  demonstrators  NNS      O\n",
              "3   Sentence: 1           have  VBP      O\n",
              "4   Sentence: 1        marched  VBN      O\n",
              "5   Sentence: 1        through   IN      O\n",
              "6   Sentence: 1         London  NNP  B-geo\n",
              "7   Sentence: 1             to   TO      O\n",
              "8   Sentence: 1        protest   VB      O\n",
              "9   Sentence: 1            the   DT      O\n",
              "10  Sentence: 1            war   NN      O\n",
              "11  Sentence: 1             in   IN      O\n",
              "12  Sentence: 1           Iraq  NNP  B-geo\n",
              "13  Sentence: 1            and   CC      O\n",
              "14  Sentence: 1         demand   VB      O\n",
              "15  Sentence: 1            the   DT      O\n",
              "16  Sentence: 1     withdrawal   NN      O\n",
              "17  Sentence: 1             of   IN      O\n",
              "18  Sentence: 1        British   JJ  B-gpe\n",
              "19  Sentence: 1         troops  NNS      O\n",
              "20  Sentence: 1           from   IN      O\n",
              "21  Sentence: 1           that   DT      O\n",
              "22  Sentence: 1        country   NN      O\n",
              "23  Sentence: 1              .    .      O\n",
              "24  Sentence: 2       Families  NNS      O\n",
              "25  Sentence: 2             of   IN      O\n",
              "26  Sentence: 2       soldiers  NNS      O\n",
              "27  Sentence: 2         killed  VBN      O\n",
              "28  Sentence: 2             in   IN      O\n",
              "29  Sentence: 2            the   DT      O\n",
              "30  Sentence: 2       conflict   NN      O\n",
              "31  Sentence: 2         joined  VBD      O\n",
              "32  Sentence: 2            the   DT      O\n",
              "33  Sentence: 2     protesters  NNS      O\n",
              "34  Sentence: 2            who   WP      O\n",
              "35  Sentence: 2        carried  VBD      O\n",
              "36  Sentence: 2        banners  NNS      O\n",
              "37  Sentence: 2           with   IN      O\n",
              "38  Sentence: 2           such   JJ      O\n",
              "39  Sentence: 2        slogans  NNS      O\n",
              "40  Sentence: 2             as   IN      O\n",
              "41  Sentence: 2              \"   ``      O\n",
              "42  Sentence: 2           Bush  NNP  B-per\n",
              "43  Sentence: 2         Number   NN      O\n",
              "44  Sentence: 2            One   CD      O\n",
              "45  Sentence: 2      Terrorist   NN      O\n",
              "46  Sentence: 2              \"   ``      O\n",
              "47  Sentence: 2            and   CC      O\n",
              "48  Sentence: 2              \"   ``      O\n",
              "49  Sentence: 2           Stop   VB      O"
            ],
            "text/html": [
              "\n",
              "  <div id=\"df-35fb250b-2d14-4632-b686-35ffebb79c8f\">\n",
              "    <div class=\"colab-df-container\">\n",
              "      <div>\n",
              "<style scoped>\n",
              "    .dataframe tbody tr th:only-of-type {\n",
              "        vertical-align: middle;\n",
              "    }\n",
              "\n",
              "    .dataframe tbody tr th {\n",
              "        vertical-align: top;\n",
              "    }\n",
              "\n",
              "    .dataframe thead th {\n",
              "        text-align: right;\n",
              "    }\n",
              "</style>\n",
              "<table border=\"1\" class=\"dataframe\">\n",
              "  <thead>\n",
              "    <tr style=\"text-align: right;\">\n",
              "      <th></th>\n",
              "      <th>Sentence #</th>\n",
              "      <th>Word</th>\n",
              "      <th>POS</th>\n",
              "      <th>Tag</th>\n",
              "    </tr>\n",
              "  </thead>\n",
              "  <tbody>\n",
              "    <tr>\n",
              "      <th>0</th>\n",
              "      <td>Sentence: 1</td>\n",
              "      <td>Thousands</td>\n",
              "      <td>NNS</td>\n",
              "      <td>O</td>\n",
              "    </tr>\n",
              "    <tr>\n",
              "      <th>1</th>\n",
              "      <td>Sentence: 1</td>\n",
              "      <td>of</td>\n",
              "      <td>IN</td>\n",
              "      <td>O</td>\n",
              "    </tr>\n",
              "    <tr>\n",
              "      <th>2</th>\n",
              "      <td>Sentence: 1</td>\n",
              "      <td>demonstrators</td>\n",
              "      <td>NNS</td>\n",
              "      <td>O</td>\n",
              "    </tr>\n",
              "    <tr>\n",
              "      <th>3</th>\n",
              "      <td>Sentence: 1</td>\n",
              "      <td>have</td>\n",
              "      <td>VBP</td>\n",
              "      <td>O</td>\n",
              "    </tr>\n",
              "    <tr>\n",
              "      <th>4</th>\n",
              "      <td>Sentence: 1</td>\n",
              "      <td>marched</td>\n",
              "      <td>VBN</td>\n",
              "      <td>O</td>\n",
              "    </tr>\n",
              "    <tr>\n",
              "      <th>5</th>\n",
              "      <td>Sentence: 1</td>\n",
              "      <td>through</td>\n",
              "      <td>IN</td>\n",
              "      <td>O</td>\n",
              "    </tr>\n",
              "    <tr>\n",
              "      <th>6</th>\n",
              "      <td>Sentence: 1</td>\n",
              "      <td>London</td>\n",
              "      <td>NNP</td>\n",
              "      <td>B-geo</td>\n",
              "    </tr>\n",
              "    <tr>\n",
              "      <th>7</th>\n",
              "      <td>Sentence: 1</td>\n",
              "      <td>to</td>\n",
              "      <td>TO</td>\n",
              "      <td>O</td>\n",
              "    </tr>\n",
              "    <tr>\n",
              "      <th>8</th>\n",
              "      <td>Sentence: 1</td>\n",
              "      <td>protest</td>\n",
              "      <td>VB</td>\n",
              "      <td>O</td>\n",
              "    </tr>\n",
              "    <tr>\n",
              "      <th>9</th>\n",
              "      <td>Sentence: 1</td>\n",
              "      <td>the</td>\n",
              "      <td>DT</td>\n",
              "      <td>O</td>\n",
              "    </tr>\n",
              "    <tr>\n",
              "      <th>10</th>\n",
              "      <td>Sentence: 1</td>\n",
              "      <td>war</td>\n",
              "      <td>NN</td>\n",
              "      <td>O</td>\n",
              "    </tr>\n",
              "    <tr>\n",
              "      <th>11</th>\n",
              "      <td>Sentence: 1</td>\n",
              "      <td>in</td>\n",
              "      <td>IN</td>\n",
              "      <td>O</td>\n",
              "    </tr>\n",
              "    <tr>\n",
              "      <th>12</th>\n",
              "      <td>Sentence: 1</td>\n",
              "      <td>Iraq</td>\n",
              "      <td>NNP</td>\n",
              "      <td>B-geo</td>\n",
              "    </tr>\n",
              "    <tr>\n",
              "      <th>13</th>\n",
              "      <td>Sentence: 1</td>\n",
              "      <td>and</td>\n",
              "      <td>CC</td>\n",
              "      <td>O</td>\n",
              "    </tr>\n",
              "    <tr>\n",
              "      <th>14</th>\n",
              "      <td>Sentence: 1</td>\n",
              "      <td>demand</td>\n",
              "      <td>VB</td>\n",
              "      <td>O</td>\n",
              "    </tr>\n",
              "    <tr>\n",
              "      <th>15</th>\n",
              "      <td>Sentence: 1</td>\n",
              "      <td>the</td>\n",
              "      <td>DT</td>\n",
              "      <td>O</td>\n",
              "    </tr>\n",
              "    <tr>\n",
              "      <th>16</th>\n",
              "      <td>Sentence: 1</td>\n",
              "      <td>withdrawal</td>\n",
              "      <td>NN</td>\n",
              "      <td>O</td>\n",
              "    </tr>\n",
              "    <tr>\n",
              "      <th>17</th>\n",
              "      <td>Sentence: 1</td>\n",
              "      <td>of</td>\n",
              "      <td>IN</td>\n",
              "      <td>O</td>\n",
              "    </tr>\n",
              "    <tr>\n",
              "      <th>18</th>\n",
              "      <td>Sentence: 1</td>\n",
              "      <td>British</td>\n",
              "      <td>JJ</td>\n",
              "      <td>B-gpe</td>\n",
              "    </tr>\n",
              "    <tr>\n",
              "      <th>19</th>\n",
              "      <td>Sentence: 1</td>\n",
              "      <td>troops</td>\n",
              "      <td>NNS</td>\n",
              "      <td>O</td>\n",
              "    </tr>\n",
              "    <tr>\n",
              "      <th>20</th>\n",
              "      <td>Sentence: 1</td>\n",
              "      <td>from</td>\n",
              "      <td>IN</td>\n",
              "      <td>O</td>\n",
              "    </tr>\n",
              "    <tr>\n",
              "      <th>21</th>\n",
              "      <td>Sentence: 1</td>\n",
              "      <td>that</td>\n",
              "      <td>DT</td>\n",
              "      <td>O</td>\n",
              "    </tr>\n",
              "    <tr>\n",
              "      <th>22</th>\n",
              "      <td>Sentence: 1</td>\n",
              "      <td>country</td>\n",
              "      <td>NN</td>\n",
              "      <td>O</td>\n",
              "    </tr>\n",
              "    <tr>\n",
              "      <th>23</th>\n",
              "      <td>Sentence: 1</td>\n",
              "      <td>.</td>\n",
              "      <td>.</td>\n",
              "      <td>O</td>\n",
              "    </tr>\n",
              "    <tr>\n",
              "      <th>24</th>\n",
              "      <td>Sentence: 2</td>\n",
              "      <td>Families</td>\n",
              "      <td>NNS</td>\n",
              "      <td>O</td>\n",
              "    </tr>\n",
              "    <tr>\n",
              "      <th>25</th>\n",
              "      <td>Sentence: 2</td>\n",
              "      <td>of</td>\n",
              "      <td>IN</td>\n",
              "      <td>O</td>\n",
              "    </tr>\n",
              "    <tr>\n",
              "      <th>26</th>\n",
              "      <td>Sentence: 2</td>\n",
              "      <td>soldiers</td>\n",
              "      <td>NNS</td>\n",
              "      <td>O</td>\n",
              "    </tr>\n",
              "    <tr>\n",
              "      <th>27</th>\n",
              "      <td>Sentence: 2</td>\n",
              "      <td>killed</td>\n",
              "      <td>VBN</td>\n",
              "      <td>O</td>\n",
              "    </tr>\n",
              "    <tr>\n",
              "      <th>28</th>\n",
              "      <td>Sentence: 2</td>\n",
              "      <td>in</td>\n",
              "      <td>IN</td>\n",
              "      <td>O</td>\n",
              "    </tr>\n",
              "    <tr>\n",
              "      <th>29</th>\n",
              "      <td>Sentence: 2</td>\n",
              "      <td>the</td>\n",
              "      <td>DT</td>\n",
              "      <td>O</td>\n",
              "    </tr>\n",
              "    <tr>\n",
              "      <th>30</th>\n",
              "      <td>Sentence: 2</td>\n",
              "      <td>conflict</td>\n",
              "      <td>NN</td>\n",
              "      <td>O</td>\n",
              "    </tr>\n",
              "    <tr>\n",
              "      <th>31</th>\n",
              "      <td>Sentence: 2</td>\n",
              "      <td>joined</td>\n",
              "      <td>VBD</td>\n",
              "      <td>O</td>\n",
              "    </tr>\n",
              "    <tr>\n",
              "      <th>32</th>\n",
              "      <td>Sentence: 2</td>\n",
              "      <td>the</td>\n",
              "      <td>DT</td>\n",
              "      <td>O</td>\n",
              "    </tr>\n",
              "    <tr>\n",
              "      <th>33</th>\n",
              "      <td>Sentence: 2</td>\n",
              "      <td>protesters</td>\n",
              "      <td>NNS</td>\n",
              "      <td>O</td>\n",
              "    </tr>\n",
              "    <tr>\n",
              "      <th>34</th>\n",
              "      <td>Sentence: 2</td>\n",
              "      <td>who</td>\n",
              "      <td>WP</td>\n",
              "      <td>O</td>\n",
              "    </tr>\n",
              "    <tr>\n",
              "      <th>35</th>\n",
              "      <td>Sentence: 2</td>\n",
              "      <td>carried</td>\n",
              "      <td>VBD</td>\n",
              "      <td>O</td>\n",
              "    </tr>\n",
              "    <tr>\n",
              "      <th>36</th>\n",
              "      <td>Sentence: 2</td>\n",
              "      <td>banners</td>\n",
              "      <td>NNS</td>\n",
              "      <td>O</td>\n",
              "    </tr>\n",
              "    <tr>\n",
              "      <th>37</th>\n",
              "      <td>Sentence: 2</td>\n",
              "      <td>with</td>\n",
              "      <td>IN</td>\n",
              "      <td>O</td>\n",
              "    </tr>\n",
              "    <tr>\n",
              "      <th>38</th>\n",
              "      <td>Sentence: 2</td>\n",
              "      <td>such</td>\n",
              "      <td>JJ</td>\n",
              "      <td>O</td>\n",
              "    </tr>\n",
              "    <tr>\n",
              "      <th>39</th>\n",
              "      <td>Sentence: 2</td>\n",
              "      <td>slogans</td>\n",
              "      <td>NNS</td>\n",
              "      <td>O</td>\n",
              "    </tr>\n",
              "    <tr>\n",
              "      <th>40</th>\n",
              "      <td>Sentence: 2</td>\n",
              "      <td>as</td>\n",
              "      <td>IN</td>\n",
              "      <td>O</td>\n",
              "    </tr>\n",
              "    <tr>\n",
              "      <th>41</th>\n",
              "      <td>Sentence: 2</td>\n",
              "      <td>\"</td>\n",
              "      <td>``</td>\n",
              "      <td>O</td>\n",
              "    </tr>\n",
              "    <tr>\n",
              "      <th>42</th>\n",
              "      <td>Sentence: 2</td>\n",
              "      <td>Bush</td>\n",
              "      <td>NNP</td>\n",
              "      <td>B-per</td>\n",
              "    </tr>\n",
              "    <tr>\n",
              "      <th>43</th>\n",
              "      <td>Sentence: 2</td>\n",
              "      <td>Number</td>\n",
              "      <td>NN</td>\n",
              "      <td>O</td>\n",
              "    </tr>\n",
              "    <tr>\n",
              "      <th>44</th>\n",
              "      <td>Sentence: 2</td>\n",
              "      <td>One</td>\n",
              "      <td>CD</td>\n",
              "      <td>O</td>\n",
              "    </tr>\n",
              "    <tr>\n",
              "      <th>45</th>\n",
              "      <td>Sentence: 2</td>\n",
              "      <td>Terrorist</td>\n",
              "      <td>NN</td>\n",
              "      <td>O</td>\n",
              "    </tr>\n",
              "    <tr>\n",
              "      <th>46</th>\n",
              "      <td>Sentence: 2</td>\n",
              "      <td>\"</td>\n",
              "      <td>``</td>\n",
              "      <td>O</td>\n",
              "    </tr>\n",
              "    <tr>\n",
              "      <th>47</th>\n",
              "      <td>Sentence: 2</td>\n",
              "      <td>and</td>\n",
              "      <td>CC</td>\n",
              "      <td>O</td>\n",
              "    </tr>\n",
              "    <tr>\n",
              "      <th>48</th>\n",
              "      <td>Sentence: 2</td>\n",
              "      <td>\"</td>\n",
              "      <td>``</td>\n",
              "      <td>O</td>\n",
              "    </tr>\n",
              "    <tr>\n",
              "      <th>49</th>\n",
              "      <td>Sentence: 2</td>\n",
              "      <td>Stop</td>\n",
              "      <td>VB</td>\n",
              "      <td>O</td>\n",
              "    </tr>\n",
              "  </tbody>\n",
              "</table>\n",
              "</div>\n",
              "      <button class=\"colab-df-convert\" onclick=\"convertToInteractive('df-35fb250b-2d14-4632-b686-35ffebb79c8f')\"\n",
              "              title=\"Convert this dataframe to an interactive table.\"\n",
              "              style=\"display:none;\">\n",
              "        \n",
              "  <svg xmlns=\"http://www.w3.org/2000/svg\" height=\"24px\"viewBox=\"0 0 24 24\"\n",
              "       width=\"24px\">\n",
              "    <path d=\"M0 0h24v24H0V0z\" fill=\"none\"/>\n",
              "    <path d=\"M18.56 5.44l.94 2.06.94-2.06 2.06-.94-2.06-.94-.94-2.06-.94 2.06-2.06.94zm-11 1L8.5 8.5l.94-2.06 2.06-.94-2.06-.94L8.5 2.5l-.94 2.06-2.06.94zm10 10l.94 2.06.94-2.06 2.06-.94-2.06-.94-.94-2.06-.94 2.06-2.06.94z\"/><path d=\"M17.41 7.96l-1.37-1.37c-.4-.4-.92-.59-1.43-.59-.52 0-1.04.2-1.43.59L10.3 9.45l-7.72 7.72c-.78.78-.78 2.05 0 2.83L4 21.41c.39.39.9.59 1.41.59.51 0 1.02-.2 1.41-.59l7.78-7.78 2.81-2.81c.8-.78.8-2.07 0-2.86zM5.41 20L4 18.59l7.72-7.72 1.47 1.35L5.41 20z\"/>\n",
              "  </svg>\n",
              "      </button>\n",
              "      \n",
              "  <style>\n",
              "    .colab-df-container {\n",
              "      display:flex;\n",
              "      flex-wrap:wrap;\n",
              "      gap: 12px;\n",
              "    }\n",
              "\n",
              "    .colab-df-convert {\n",
              "      background-color: #E8F0FE;\n",
              "      border: none;\n",
              "      border-radius: 50%;\n",
              "      cursor: pointer;\n",
              "      display: none;\n",
              "      fill: #1967D2;\n",
              "      height: 32px;\n",
              "      padding: 0 0 0 0;\n",
              "      width: 32px;\n",
              "    }\n",
              "\n",
              "    .colab-df-convert:hover {\n",
              "      background-color: #E2EBFA;\n",
              "      box-shadow: 0px 1px 2px rgba(60, 64, 67, 0.3), 0px 1px 3px 1px rgba(60, 64, 67, 0.15);\n",
              "      fill: #174EA6;\n",
              "    }\n",
              "\n",
              "    [theme=dark] .colab-df-convert {\n",
              "      background-color: #3B4455;\n",
              "      fill: #D2E3FC;\n",
              "    }\n",
              "\n",
              "    [theme=dark] .colab-df-convert:hover {\n",
              "      background-color: #434B5C;\n",
              "      box-shadow: 0px 1px 3px 1px rgba(0, 0, 0, 0.15);\n",
              "      filter: drop-shadow(0px 1px 2px rgba(0, 0, 0, 0.3));\n",
              "      fill: #FFFFFF;\n",
              "    }\n",
              "  </style>\n",
              "\n",
              "      <script>\n",
              "        const buttonEl =\n",
              "          document.querySelector('#df-35fb250b-2d14-4632-b686-35ffebb79c8f button.colab-df-convert');\n",
              "        buttonEl.style.display =\n",
              "          google.colab.kernel.accessAllowed ? 'block' : 'none';\n",
              "\n",
              "        async function convertToInteractive(key) {\n",
              "          const element = document.querySelector('#df-35fb250b-2d14-4632-b686-35ffebb79c8f');\n",
              "          const dataTable =\n",
              "            await google.colab.kernel.invokeFunction('convertToInteractive',\n",
              "                                                     [key], {});\n",
              "          if (!dataTable) return;\n",
              "\n",
              "          const docLinkHtml = 'Like what you see? Visit the ' +\n",
              "            '<a target=\"_blank\" href=https://colab.research.google.com/notebooks/data_table.ipynb>data table notebook</a>'\n",
              "            + ' to learn more about interactive tables.';\n",
              "          element.innerHTML = '';\n",
              "          dataTable['output_type'] = 'display_data';\n",
              "          await google.colab.output.renderOutput(dataTable, element);\n",
              "          const docLink = document.createElement('div');\n",
              "          docLink.innerHTML = docLinkHtml;\n",
              "          element.appendChild(docLink);\n",
              "        }\n",
              "      </script>\n",
              "    </div>\n",
              "  </div>\n",
              "  "
            ]
          },
          "metadata": {},
          "execution_count": 4
        }
      ],
      "source": [
        "data = pd.read_csv('/content/drive/MyDrive/Colab Notebooks/DS310-NLTK/Buổi 2/ner_dataset.csv', encoding=\"latin1\")\n",
        "data = data.fillna(method=\"ffill\")\n",
        "data.head(50)"
      ]
    },
    {
      "cell_type": "markdown",
      "metadata": {
        "id": "Hvc2uwATZm8f"
      },
      "source": [
        "#Visualizing \n",
        "Thông kê bộ dữ liệu:\n",
        "- Số lượng từ duy nhất trong kho ngữ liệu. (Tập từ vựng, số chiều)\n",
        "- Số lượng thẻ duy nhất trong tập dữ liệu. (Tập nhãn)\n",
        "\n",
        "\n",
        "Bằng cách sử dụng hàm **“nunique”.**"
      ]
    },
    {
      "cell_type": "code",
      "execution_count": 5,
      "metadata": {
        "colab": {
          "base_uri": "https://localhost:8080/"
        },
        "id": "foji0Z5-DACL",
        "outputId": "8f64cf41-dd1f-47e8-c357-6b66a58ceb60"
      },
      "outputs": [
        {
          "output_type": "stream",
          "name": "stdout",
          "text": [
            "Unique words in corpus: 35178\n",
            "Unique tags in corpus: 17\n"
          ]
        }
      ],
      "source": [
        "print(\"Unique words in corpus:\", data['Word'].nunique())\n",
        "print(\"Unique tags in corpus:\", data['Tag'].nunique())"
      ]
    },
    {
      "cell_type": "markdown",
      "metadata": {
        "id": "9Ih-dU2ibjC5"
      },
      "source": [
        "Tạo một danh sách và sử dụng phương thức set() để lấy các giá trị trong cột “word” và loại bỏ giá trị trùng.\\\n",
        "Thêm phần đệm có tên “Endpad”.\n"
      ]
    },
    {
      "cell_type": "code",
      "execution_count": 6,
      "metadata": {
        "id": "9QdG8q_xD2MR"
      },
      "outputs": [],
      "source": [
        "# tạo tập từ vựng\n",
        "words = list(set(data[\"Word\"].values))\n",
        "words.append(\"ENDPAD\")\n",
        "num_words = len(words)"
      ]
    },
    {
      "cell_type": "code",
      "source": [
        "# tạo tập nhãn tương tự\n",
        "tags = list(set(data['Tag'].values))\n",
        "num_tags = len(tags)"
      ],
      "metadata": {
        "id": "whtatZHJOMHg"
      },
      "execution_count": 7,
      "outputs": []
    },
    {
      "cell_type": "code",
      "source": [
        "print(num_words, num_tags)"
      ],
      "metadata": {
        "colab": {
          "base_uri": "https://localhost:8080/"
        },
        "id": "3CauQefJayv_",
        "outputId": "8f95e1f0-2edd-44c5-a887-a98d8c57a60d"
      },
      "execution_count": 8,
      "outputs": [
        {
          "output_type": "stream",
          "name": "stdout",
          "text": [
            "35179 17\n"
          ]
        }
      ]
    },
    {
      "cell_type": "markdown",
      "metadata": {
        "id": "YjkABYEfcm9S"
      },
      "source": [
        "# Bước 3: Lấy các câu và các thẻ tương ứng"
      ]
    },
    {
      "cell_type": "code",
      "source": [
        "def get_sentences(data):\n",
        "  agg = lambda s: [(w,t) for w, t in zip(s[\"Word\"].values.tolist(),\n",
        "                                         s[\"Tag\"].values.tolist())]\n",
        "  group = data.groupby('Sentence #').apply(agg)\n",
        "  return [sen for sen in group]"
      ],
      "metadata": {
        "id": "rfj8IMTNUH6_"
      },
      "execution_count": 9,
      "outputs": []
    },
    {
      "cell_type": "code",
      "execution_count": 10,
      "metadata": {
        "id": "Sru0NB5HEZ2i",
        "colab": {
          "base_uri": "https://localhost:8080/"
        },
        "outputId": "792bb09f-1488-4b66-baf9-3cbb83313761"
      },
      "outputs": [
        {
          "output_type": "execute_result",
          "data": {
            "text/plain": [
              "[('Thousands', 'O'),\n",
              " ('of', 'O'),\n",
              " ('demonstrators', 'O'),\n",
              " ('have', 'O'),\n",
              " ('marched', 'O'),\n",
              " ('through', 'O'),\n",
              " ('London', 'B-geo'),\n",
              " ('to', 'O'),\n",
              " ('protest', 'O'),\n",
              " ('the', 'O'),\n",
              " ('war', 'O'),\n",
              " ('in', 'O'),\n",
              " ('Iraq', 'B-geo'),\n",
              " ('and', 'O'),\n",
              " ('demand', 'O'),\n",
              " ('the', 'O'),\n",
              " ('withdrawal', 'O'),\n",
              " ('of', 'O'),\n",
              " ('British', 'B-gpe'),\n",
              " ('troops', 'O'),\n",
              " ('from', 'O'),\n",
              " ('that', 'O'),\n",
              " ('country', 'O'),\n",
              " ('.', 'O')]"
            ]
          },
          "metadata": {},
          "execution_count": 10
        }
      ],
      "source": [
        "sentences = get_sentences(data)\n",
        "sentences[0]"
      ]
    },
    {
      "cell_type": "markdown",
      "metadata": {
        "id": "XojZjemOdEOC"
      },
      "source": [
        "# Bước 4: Ánh xạ giữa các câu và chỉ mục\n",
        "Chúng ta có thể thấy rằng mỗi từ được gán cho một thẻ duy nhất. Chúng tôi có thể truy xuất những từ này bằng cách sử dụng các chỉ số của chúng và tra cứu chúng trong từ điển và trả về các khóa tương ứng.\n"
      ]
    },
    {
      "cell_type": "code",
      "execution_count": 11,
      "metadata": {
        "id": "KzmuYP_CEZ-l"
      },
      "outputs": [],
      "source": [
        "word2idx = {w: i   for i, w in enumerate(words)}\n",
        "tag2idx = {t: i for i, t in enumerate(tags)}"
      ]
    },
    {
      "cell_type": "code",
      "execution_count": 12,
      "metadata": {
        "colab": {
          "base_uri": "https://localhost:8080/"
        },
        "id": "dQY8s4cKEvnw",
        "outputId": "f6c99574-8247-4804-acd4-785801ef70b3"
      },
      "outputs": [
        {
          "output_type": "execute_result",
          "data": {
            "text/plain": [
              "{'B-gpe': 0,\n",
              " 'B-nat': 1,\n",
              " 'B-eve': 2,\n",
              " 'B-tim': 3,\n",
              " 'B-art': 4,\n",
              " 'B-geo': 5,\n",
              " 'I-per': 6,\n",
              " 'I-nat': 7,\n",
              " 'B-per': 8,\n",
              " 'B-org': 9,\n",
              " 'I-org': 10,\n",
              " 'O': 11,\n",
              " 'I-gpe': 12,\n",
              " 'I-art': 13,\n",
              " 'I-eve': 14,\n",
              " 'I-tim': 15,\n",
              " 'I-geo': 16}"
            ]
          },
          "metadata": {},
          "execution_count": 12
        }
      ],
      "source": [
        "# word2idx\n",
        "word2idx[\"ENDPAD\"]\n",
        "tag2idx"
      ]
    },
    {
      "cell_type": "markdown",
      "metadata": {
        "id": "M4jHHTiNeHQD"
      },
      "source": [
        "#Bước 5: Padding  đầu vào và cắt dữ liệu thành tập Train, Test\n",
        "Trong trục X, có thể thấy độ dài an toàn của câu là khoảng 50."
      ]
    },
    {
      "cell_type": "code",
      "execution_count": 13,
      "metadata": {
        "id": "QsaS9yuIEvqA",
        "colab": {
          "base_uri": "https://localhost:8080/",
          "height": 282
        },
        "outputId": "97deeefb-9829-41aa-ce04-7bc69d555c82"
      },
      "outputs": [
        {
          "output_type": "display_data",
          "data": {
            "text/plain": [
              "<Figure size 432x288 with 1 Axes>"
            ],
            "image/png": "[encoded data removed]"
          },
          "metadata": {}
        }
      ],
      "source": [
        "#vẽ biểu đồ thể hiện phân bố chiều dài của câu trong tập dữ liệu.\n",
        "plt.hist([len(s) for s in sentences], bins=50)\n",
        "\n",
        "plt.xlabel('Length of sentences')\n",
        "plt.ylabel('Number of sentences')\n",
        "plt.show()"
      ]
    },
    {
      "cell_type": "markdown",
      "metadata": {
        "id": "45olb3GgimLa"
      },
      "source": [
        "- Sử dụng hàm pad_sequence() cho padding\n",
        "- X sẽ là một đại diện bằng số cho các từ. (sử dụng word2idx)\n",
        "- ‘Post’ chỉ là một giá trị của đối số đệm ở cuối câu.\n",
        "- X,y là vector"
      ]
    },
    {
      "cell_type": "code",
      "execution_count": 14,
      "metadata": {
        "id": "MdhMd7c8Evrg"
      },
      "outputs": [],
      "source": [
        "#ánh xạ từ trong câu và nhãn về index của nó\n",
        "from tensorflow.keras.preprocessing.sequence import pad_sequences\n",
        "# đặt max length cho phù hợp\n",
        "max_len = 50\n",
        "\n",
        "X = [[word2idx[w[0]] for w in s] for s in sentences]\n",
        "X = pad_sequences(maxlen=max_len, sequences=X, padding=\"post\", value=num_words-1)\n",
        "\n",
        "#tương tự với nhãn\n",
        "y = [[tag2idx[w[1]] for w in s] for s in sentences]\n",
        "y = pad_sequences(maxlen=max_len, sequences=y, padding='post', value=tag2idx[\"O\"])\n"
      ]
    },
    {
      "cell_type": "code",
      "source": [
        "print(X[0])\n",
        "print(y[0])"
      ],
      "metadata": {
        "colab": {
          "base_uri": "https://localhost:8080/"
        },
        "id": "nIMX6m_Ognpn",
        "outputId": "513f2da1-dec9-4005-a89b-b6e16b438632"
      },
      "execution_count": 15,
      "outputs": [
        {
          "output_type": "stream",
          "name": "stdout",
          "text": [
            "[ 4944 27203 24938  1986 31305  7983 29990 21224  5559  8670  1083 34768\n",
            " 17989 32744  7960  8670   969 27203  5441 28216 25475  1870 10135 24489\n",
            " 35178 35178 35178 35178 35178 35178 35178 35178 35178 35178 35178 35178\n",
            " 35178 35178 35178 35178 35178 35178 35178 35178 35178 35178 35178 35178\n",
            " 35178 35178]\n",
            "[11 11 11 11 11 11  5 11 11 11 11 11  5 11 11 11 11 11  0 11 11 11 11 11\n",
            " 11 11 11 11 11 11 11 11 11 11 11 11 11 11 11 11 11 11 11 11 11 11 11 11\n",
            " 11 11]\n"
          ]
        }
      ]
    },
    {
      "cell_type": "markdown",
      "metadata": {
        "id": "SricyH2-jpe7"
      },
      "source": [
        "- test_size = 0.2 có nghĩa là 80% dữ liệu chia cho tập huấn luyện và 20% còn lại cho tập kiểm tra."
      ]
    },
    {
      "cell_type": "code",
      "execution_count": 16,
      "metadata": {
        "id": "pTZXbacIEvth"
      },
      "outputs": [],
      "source": [
        "from sklearn.model_selection import train_test_split \n",
        "x_train, x_test, y_train, y_test = train_test_split(X, y, test_size=0.2, random_state=1)"
      ]
    },
    {
      "cell_type": "markdown",
      "metadata": {
        "id": "4BX80iq9kHhf"
      },
      "source": [
        "# Bước 6: Xây dựng Mô hình LSTM hai chiều (BI-LSTM)\n"
      ]
    },
    {
      "cell_type": "code",
      "execution_count": 17,
      "metadata": {
        "id": "XfT0mUF3F20e"
      },
      "outputs": [],
      "source": [
        "from tensorflow.keras.models import Sequential\n",
        "from tensorflow.keras import Model, Input\n",
        "from tensorflow.keras.layers import LSTM, Embedding, Dense\n",
        "from tensorflow.keras.layers import TimeDistributed, SpatialDropout1D, Bidirectional"
      ]
    },
    {
      "cell_type": "markdown",
      "metadata": {
        "id": "woxrXbQKlTdR"
      },
      "source": [
        "Bản tóm tắt cho thấy rằng chúng ta có hơn 1,8 triệu tham số cần được huấn luyện."
      ]
    },
    {
      "cell_type": "code",
      "execution_count": 18,
      "metadata": {
        "id": "Lr4UtVstEvuz",
        "colab": {
          "base_uri": "https://localhost:8080/"
        },
        "outputId": "9623abdc-38ea-4d80-96a9-09608258ade9"
      },
      "outputs": [
        {
          "output_type": "stream",
          "name": "stdout",
          "text": [
            "Model: \"sequential\"\n",
            "_________________________________________________________________\n",
            " Layer (type)                Output Shape              Param #   \n",
            "=================================================================\n",
            " embedding (Embedding)       (None, 50, 50)            1758950   \n",
            "                                                                 \n",
            " spatial_dropout1d (SpatialD  (None, 50, 50)           0         \n",
            " ropout1D)                                                       \n",
            "                                                                 \n",
            " bidirectional (Bidirectiona  (None, 50, 200)          120800    \n",
            " l)                                                              \n",
            "                                                                 \n",
            " time_distributed (TimeDistr  (None, 50, 17)           3417      \n",
            " ibuted)                                                         \n",
            "                                                                 \n",
            "=================================================================\n",
            "Total params: 1,883,167\n",
            "Trainable params: 1,883,167\n",
            "Non-trainable params: 0\n",
            "_________________________________________________________________\n"
          ]
        }
      ],
      "source": [
        "model = Sequential() #Yêu cầu khỏi tạo mạng LSTM 1 chiều\n",
        "\n",
        "# Input\n",
        "model.add(Input(shape=(max_len,)))\n",
        "\n",
        "# Embedding\n",
        "model.add(Embedding(input_dim=num_words, output_dim=50, input_length=50))\n",
        "\n",
        "# SpatialDropout1D\n",
        "model.add(SpatialDropout1D(0.1))\n",
        "\n",
        "# LSTM\n",
        "model.add(Bidirectional(LSTM(units=100, return_sequences=True, recurrent_dropout=0.1)))\n",
        "\n",
        "# TimeDistributed\n",
        "model.add(TimeDistributed(Dense(num_tags, activation='softmax')))\n",
        "\n",
        "model.summary()"
      ]
    },
    {
      "cell_type": "markdown",
      "metadata": {
        "id": "3Fw5QXjJlyAy"
      },
      "source": [
        "- Sử dụng trình tối ưu hoá \"adam\"\n",
        "- sparce_categorical_crossentropy làm hàm mất mát\n",
        "- Ma trận mà chúng ta sẽ quan tâm là ma trận độ chính xác."
      ]
    },
    {
      "cell_type": "code",
      "execution_count": 19,
      "metadata": {
        "id": "I5qKoUzREvwr"
      },
      "outputs": [],
      "source": [
        "model.compile(optimizer=\"adam\",\n",
        "              loss=\"sparse_categorical_crossentropy\",\n",
        "              metrics=[\"accuracy\"])"
      ]
    },
    {
      "cell_type": "markdown",
      "metadata": {
        "id": "Dc_jElQlmtEP"
      },
      "source": [
        "#Bước 7: Huấn luyện Model"
      ]
    },
    {
      "cell_type": "markdown",
      "metadata": {
        "id": "xmPTE4emnSJ8"
      },
      "source": [
        "- Để bắt đầu huấn luyện là gọi model.fit ()\n",
        "- Có thể tăng kích thước batch_size nếu bạn có GPU có kích thước bộ nhớ lớn.\n",
        "\n"
      ]
    },
    {
      "cell_type": "code",
      "execution_count": 20,
      "metadata": {
        "id": "wNg5eaGsGLX7",
        "colab": {
          "base_uri": "https://localhost:8080/"
        },
        "outputId": "187c8f11-0e36-4375-b78f-2d5f3e5bcd40"
      },
      "outputs": [
        {
          "output_type": "stream",
          "name": "stdout",
          "text": [
            "1080/1080 [==============================] - 263s 238ms/step - loss: 0.1900 - accuracy: 0.9561 - val_loss: 0.0708 - val_accuracy: 0.9801\n",
            "[267.81624579429626] Completed!\n"
          ]
        }
      ],
      "source": [
        "# Các bạn nhớ là phải lưu mô hình khi train (có nhắc lại yêu cầu ở cuối) \n",
        "import time\n",
        "start_time = time.time()\n",
        "\n",
        "history = model.fit(\n",
        "    x=x_train,\n",
        "    y=y_train,\n",
        "    validation_split= 0.1,\n",
        "    batch_size= 32, \n",
        "    epochs=1,\n",
        "    verbose=1\n",
        ")\n",
        "print(\"[{}] Completed!\".format(time.time() - start_time))"
      ]
    },
    {
      "cell_type": "markdown",
      "metadata": {
        "id": "S4VxiMpqoMF5"
      },
      "source": [
        "# Bước 8: Đánh giá mô hình NER\n",
        "\n"
      ]
    },
    {
      "cell_type": "code",
      "execution_count": 21,
      "metadata": {
        "id": "TWk9eXUKoHXg",
        "colab": {
          "base_uri": "https://localhost:8080/"
        },
        "outputId": "2b1b5a1d-ecd2-45a4-8c21-c41e528f140a"
      },
      "outputs": [
        {
          "output_type": "stream",
          "name": "stdout",
          "text": [
            "300/300 [==============================] - 13s 44ms/step - loss: 0.0739 - accuracy: 0.9795\n"
          ]
        },
        {
          "output_type": "execute_result",
          "data": {
            "text/plain": [
              "[0.073877714574337, 0.9795100092887878]"
            ]
          },
          "metadata": {},
          "execution_count": 21
        }
      ],
      "source": [
        "model.evaluate(x_test, y_test)"
      ]
    },
    {
      "cell_type": "markdown",
      "metadata": {
        "id": "j--OVsRnocbZ"
      },
      "source": [
        "- Dự đoán"
      ]
    },
    {
      "cell_type": "code",
      "execution_count": 22,
      "metadata": {
        "colab": {
          "base_uri": "https://localhost:8080/"
        },
        "id": "rb9DEgbcGLbL",
        "outputId": "9c88a0c9-35ec-462c-c63f-2d7dc3b771b7"
      },
      "outputs": [
        {
          "output_type": "stream",
          "name": "stdout",
          "text": [
            "1/1 [==============================] - 1s 591ms/step\n",
            "Word           True \t Pred\n",
            "\n",
            "------------------------------\n",
            "avian          O\tO\n",
            "cooperate      O\tO\n",
            "driver         O\tO\n",
            "ambassador-at-largeO\tO\n",
            "Morsink        O\tO\n",
            "refuge         B-geo\tB-geo\n",
            "innovation     O\tO\n",
            "Radio          O\tO\n",
            "innovation     O\tO\n",
            "1841           B-geo\tB-geo\n",
            "impossible     O\tO\n",
            "condemning     O\tO\n",
            "grievously     O\tO\n",
            "contracts      O\tO\n",
            "Nair           O\tO\n",
            "catheterizationO\tO\n",
            "65,000         O\tO\n",
            "gyroscopes     O\tO\n",
            "factors        O\tO\n",
            "guides         O\tO\n",
            "clemency       O\tO\n",
            "appealing      O\tO\n",
            "request        O\tO\n",
            "request        O\tO\n",
            "request        O\tO\n",
            "request        O\tO\n",
            "request        O\tO\n",
            "request        O\tO\n",
            "request        O\tO\n",
            "request        O\tO\n",
            "request        O\tO\n",
            "request        O\tO\n",
            "request        O\tO\n",
            "request        O\tO\n",
            "request        O\tO\n",
            "request        O\tO\n",
            "request        O\tO\n",
            "request        O\tO\n",
            "request        O\tO\n",
            "request        O\tO\n",
            "request        O\tO\n",
            "request        O\tO\n",
            "request        O\tO\n",
            "request        O\tO\n",
            "request        O\tO\n",
            "request        O\tO\n",
            "request        O\tO\n",
            "request        O\tO\n",
            "request        O\tO\n",
            "request        O\tO\n"
          ]
        }
      ],
      "source": [
        "# i = np.random.randint(0, x_test.shape[0]) #659\n",
        "i = 10\n",
        "p = model.predict(np.array([x_test[i]]))\n",
        "\n",
        "p = np.argmax(p, axis=-1)\n",
        "y_true = y_test[i]\n",
        "print(\"{:15}{:5}\\t {}\\n\".format(\"Word\", \"True\", \"Pred\"))\n",
        "print(\"-\" *30)\n",
        "for w, true, pred in zip(x_test[i], y_true, p[0]):\n",
        "    print(\"{:15}{}\\t{}\".format(words[w-1], tags[true], tags[pred]))"
      ]
    },
    {
      "cell_type": "markdown",
      "source": [
        "# Hoàn thành yêu cầu trong file thực hành tương ứng với câu 1"
      ],
      "metadata": {
        "id": "3cX7-v2jCopT"
      }
    },
    {
      "cell_type": "markdown",
      "source": [
        "## Thêm đánh giá mô hình theo độ đo F1"
      ],
      "metadata": {
        "id": "vxnRlTUnC2pc"
      }
    },
    {
      "cell_type": "code",
      "source": [
        "y_pred = model.predict(x_test)\n",
        "y_pred = np.argmax(y_pred, axis=-1)"
      ],
      "metadata": {
        "colab": {
          "base_uri": "https://localhost:8080/"
        },
        "id": "Riwsvin0Co_M",
        "outputId": "92d7116c-edf0-4beb-d9f9-dec1ceeca56d"
      },
      "execution_count": 23,
      "outputs": [
        {
          "output_type": "stream",
          "name": "stdout",
          "text": [
            "300/300 [==============================] - 17s 55ms/step\n"
          ]
        }
      ]
    },
    {
      "cell_type": "code",
      "source": [
        "from sklearn.metrics import f1_score, classification_report\n",
        "\n",
        "print('micro:', f1_score(y_test.flatten(), y_pred.flatten(), average='micro')*100)\n",
        "print('macro:', f1_score(y_test.flatten(), y_pred.flatten(), average='macro')*100)"
      ],
      "metadata": {
        "colab": {
          "base_uri": "https://localhost:8080/"
        },
        "id": "3eR8A7e0DhSD",
        "outputId": "9f74d41d-c032-4475-b7eb-8c17894b80e8"
      },
      "execution_count": 24,
      "outputs": [
        {
          "output_type": "stream",
          "name": "stdout",
          "text": [
            "micro: 97.95100083402836\n",
            "macro: 45.004384181086174\n"
          ]
        }
      ]
    },
    {
      "cell_type": "markdown",
      "source": [
        "## Xuất kết quả của F1 score và Accuracy theo từng nhãn thực thể"
      ],
      "metadata": {
        "id": "0Z_H-SekDAgo"
      }
    },
    {
      "cell_type": "code",
      "source": [
        "print(classification_report(y_test.flatten(), y_pred.flatten(), target_names = tags))\n",
        "print('Accuracy:', model.evaluate(x_test, y_test)[1]*100)"
      ],
      "metadata": {
        "colab": {
          "base_uri": "https://localhost:8080/"
        },
        "id": "rHVLLpjNDzSf",
        "outputId": "26f47f88-810d-4c84-91ca-3fc8f50b0a99"
      },
      "execution_count": 25,
      "outputs": [
        {
          "output_type": "stream",
          "name": "stderr",
          "text": [
            "/usr/local/lib/python3.7/dist-packages/sklearn/metrics/_classification.py:1318: UndefinedMetricWarning: Precision and F-score are ill-defined and being set to 0.0 in labels with no predicted samples. Use `zero_division` parameter to control this behavior.\n",
            "  _warn_prf(average, modifier, msg_start, len(result))\n",
            "/usr/local/lib/python3.7/dist-packages/sklearn/metrics/_classification.py:1318: UndefinedMetricWarning: Precision and F-score are ill-defined and being set to 0.0 in labels with no predicted samples. Use `zero_division` parameter to control this behavior.\n",
            "  _warn_prf(average, modifier, msg_start, len(result))\n",
            "/usr/local/lib/python3.7/dist-packages/sklearn/metrics/_classification.py:1318: UndefinedMetricWarning: Precision and F-score are ill-defined and being set to 0.0 in labels with no predicted samples. Use `zero_division` parameter to control this behavior.\n",
            "  _warn_prf(average, modifier, msg_start, len(result))\n"
          ]
        },
        {
          "output_type": "stream",
          "name": "stdout",
          "text": [
            "              precision    recall  f1-score   support\n",
            "\n",
            "       B-gpe       0.94      0.91      0.92      3173\n",
            "       B-nat       0.00      0.00      0.00        38\n",
            "       B-eve       0.00      0.00      0.00        79\n",
            "       B-tim       0.89      0.79      0.83      4102\n",
            "       B-art       0.00      0.00      0.00        96\n",
            "       B-geo       0.77      0.86      0.81      7380\n",
            "       I-per       0.81      0.82      0.81      3424\n",
            "       I-nat       0.00      0.00      0.00        12\n",
            "       B-per       0.81      0.71      0.76      3359\n",
            "       B-org       0.69      0.49      0.57      3908\n",
            "       I-org       0.63      0.71      0.67      3254\n",
            "           O       0.99      1.00      0.99    447795\n",
            "       I-gpe       0.00      0.00      0.00        33\n",
            "       I-art       0.00      0.00      0.00        86\n",
            "       I-eve       0.00      0.00      0.00        73\n",
            "       I-tim       0.75      0.49      0.59      1339\n",
            "       I-geo       0.76      0.61      0.68      1449\n",
            "\n",
            "    accuracy                           0.98    479600\n",
            "   macro avg       0.47      0.43      0.45    479600\n",
            "weighted avg       0.98      0.98      0.98    479600\n",
            "\n",
            "300/300 [==============================] - 11s 36ms/step - loss: 0.0739 - accuracy: 0.9795\n",
            "Accuracy: 97.95100092887878\n"
          ]
        }
      ]
    },
    {
      "cell_type": "markdown",
      "source": [
        "## Lưu lại mô hình"
      ],
      "metadata": {
        "id": "2mju8znDC8Gf"
      }
    },
    {
      "cell_type": "code",
      "source": [
        "from keras.models import save_model\n",
        "save_model(model, filepath='/content/drive/MyDrive/Colab Notebooks/DS310-NLTK/Buổi 2/lstm_cau_1_BTTH2.h5')"
      ],
      "metadata": {
        "id": "mzyQFhV3C78M"
      },
      "execution_count": 26,
      "outputs": []
    }
  ],
  "metadata": {
    "colab": {
      "collapsed_sections": [],
      "provenance": [],
      "toc_visible": true
    },
    "kernelspec": {
      "display_name": "Python 3.9.13 ('base')",
      "language": "python",
      "name": "python3"
    },
    "language_info": {
      "name": "python",
      "version": "3.9.13"
    },
    "vscode": {
      "interpreter": {
        "hash": "acab256477bb3bc8f36ab2b146a0c0c8db84f6f70af0bb9140e97da80ad53d1d"
      }
    },
    "gpuClass": "standard"
  },
  "nbformat": 4,
  "nbformat_minor": 0
}
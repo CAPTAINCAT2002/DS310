{
  "nbformat": 4,
  "nbformat_minor": 0,
  "metadata": {
    "colab": {
      "provenance": [],
      "collapsed_sections": [
        "i_4kHUK_YS4q"
      ]
    },
    "kernelspec": {
      "name": "python3",
      "display_name": "Python 3"
    },
    "language_info": {
      "name": "python"
    },
    "accelerator": "GPU"
  },
  "cells": [
    {
      "cell_type": "code",
      "metadata": {
        "id": "IeWsfNqikGh8",
        "colab": {
          "base_uri": "https://localhost:8080/"
        },
        "outputId": "884da13b-f361-40f8-8148-8944e7130076"
      },
      "source": [
        "from google.colab import drive\n",
        "drive.mount('/content/drive')"
      ],
      "execution_count": 1,
      "outputs": [
        {
          "output_type": "stream",
          "name": "stdout",
          "text": [
            "Mounted at /content/drive\n"
          ]
        }
      ]
    },
    {
      "cell_type": "markdown",
      "metadata": {
        "id": "yTWomfEpX6dS"
      },
      "source": [
        " # Import Modules"
      ]
    },
    {
      "cell_type": "code",
      "metadata": {
        "id": "ok2BrtLZAItY"
      },
      "source": [
        "from matplotlib import pyplot as plt\n",
        "from matplotlib import style\n",
        "import pandas as pd\n",
        "import numpy as np\n",
        "import tensorflow as tf\n"
      ],
      "execution_count": 2,
      "outputs": []
    },
    {
      "cell_type": "code",
      "source": [
        "!git clone https://github.com/VinAIResearch/PhoNER_COVID19.git"
      ],
      "metadata": {
        "colab": {
          "base_uri": "https://localhost:8080/"
        },
        "id": "pKGJYcT7kBj-",
        "outputId": "650ecc03-aa68-44b1-fe1c-6f5baeaa5af1"
      },
      "execution_count": 3,
      "outputs": [
        {
          "output_type": "stream",
          "name": "stdout",
          "text": [
            "Cloning into 'PhoNER_COVID19'...\n",
            "remote: Enumerating objects: 58, done.\u001b[K\n",
            "remote: Counting objects: 100% (58/58), done.\u001b[K\n",
            "remote: Compressing objects: 100% (38/38), done.\u001b[K\n",
            "remote: Total 58 (delta 23), reused 41 (delta 18), pack-reused 0\u001b[K\n",
            "Unpacking objects: 100% (58/58), done.\n"
          ]
        }
      ]
    },
    {
      "cell_type": "markdown",
      "metadata": {
        "id": "i_4kHUK_YS4q"
      },
      "source": [
        "#: Load bộ dữ liệu \n",
        "\n",
        "\n",
        "\n"
      ]
    },
    {
      "cell_type": "code",
      "metadata": {
        "id": "kLDDAkTrC_-x"
      },
      "source": [
        "train_data = pd.read_json('/content/drive/MyDrive/Ds310/PhoNER_COVID19-main/data/word/train_word.json', lines=True)\n",
        "dev_data = pd.read_json('/content/drive/MyDrive/Ds310/PhoNER_COVID19-main/data/word/dev_word.json', lines=True)\n",
        "test_data = pd.read_json('/content/drive/MyDrive/Ds310/PhoNER_COVID19-main/data/word/test_word.json', lines=True)"
      ],
      "execution_count": 4,
      "outputs": []
    },
    {
      "cell_type": "code",
      "source": [
        "train_data = train_data.fillna(method='ffill')\n",
        "dev_data = dev_data.fillna(method='ffill')\n",
        "test_data = test_data.fillna(method='ffill')"
      ],
      "metadata": {
        "id": "C9APqPjrke4n"
      },
      "execution_count": 5,
      "outputs": []
    },
    {
      "cell_type": "markdown",
      "metadata": {
        "id": "Hvc2uwATZm8f"
      },
      "source": [
        "# Pre-processing\n"
      ]
    },
    {
      "cell_type": "code",
      "metadata": {
        "id": "foji0Z5-DACL"
      },
      "source": [
        "def processing_data(data):\n",
        "  flat_word = [item for sentence in data['words'] for item in sentence]\n",
        "  flat_tag = [item for sentence in data['tags'] for item in sentence]\n",
        "  sentence = []\n",
        "  for i in range(len(data)):\n",
        "    for j in range(len(data.iloc[i]['words'])):\n",
        "        sentence.append(\"Sentence: \"+ str(i+1))\n",
        "\n",
        "  df = pd.DataFrame(columns=['Sentence #','Word','Tag'])\n",
        "  df['Sentence #'] = sentence\n",
        "  df['Word'] = flat_word\n",
        "  df['Tag'] = flat_tag\n",
        "\n",
        "  return df"
      ],
      "execution_count": 6,
      "outputs": []
    },
    {
      "cell_type": "code",
      "source": [
        "train = processing_data(train_data)\n",
        "dev = processing_data(dev_data)\n",
        "test = processing_data(test_data) "
      ],
      "metadata": {
        "id": "P-tCTabxkyly"
      },
      "execution_count": 7,
      "outputs": []
    },
    {
      "cell_type": "markdown",
      "source": [
        "# Word corpus create"
      ],
      "metadata": {
        "id": "bLH6isUZk38X"
      }
    },
    {
      "cell_type": "code",
      "source": [
        "corpus = [train['Word'].values.tolist(), dev['Word'].values.tolist(), test['Word'].values.tolist()]\n",
        "corpus = sum(corpus, [])\n",
        "corpus[3]"
      ],
      "metadata": {
        "colab": {
          "base_uri": "https://localhost:8080/",
          "height": 36
        },
        "id": "dyHQpG4Sk0Wl",
        "outputId": "4050e166-5153-4b92-f003-24b8f09f2230"
      },
      "execution_count": 8,
      "outputs": [
        {
          "output_type": "execute_result",
          "data": {
            "text/plain": [
              "'tiếp_tục'"
            ],
            "application/vnd.google.colaboratory.intrinsic+json": {
              "type": "string"
            }
          },
          "metadata": {},
          "execution_count": 8
        }
      ]
    },
    {
      "cell_type": "code",
      "metadata": {
        "id": "9QdG8q_xD2MR"
      },
      "source": [
        "#tạo tập từ vựng\n",
        "words = list(set(corpus))\n",
        "words.append(\"ENDPAD\")\n",
        "num_words = len(words)"
      ],
      "execution_count": 9,
      "outputs": []
    },
    {
      "cell_type": "code",
      "metadata": {
        "id": "STf-MXyND2Po"
      },
      "source": [
        "#tạo tập nhãn \n",
        "tags = list(set(train[\"Tag\"].values))\n",
        "num_tags = len(tags)"
      ],
      "execution_count": 10,
      "outputs": []
    },
    {
      "cell_type": "markdown",
      "metadata": {
        "id": "YjkABYEfcm9S"
      },
      "source": [
        "\n",
        "# Get the sentences and the corresponding cards"
      ]
    },
    {
      "cell_type": "code",
      "metadata": {
        "id": "ZeMYGQ7LD2Yx"
      },
      "source": [
        "def get_sentences(data):\n",
        "  agg = lambda s: [(w,t) for w, t in zip(s[\"Word\"].values.tolist(),\n",
        "                                         s[\"Tag\"].values.tolist())]\n",
        "  group = data.groupby('Sentence #').apply(agg)\n",
        "  return [sen for sen in group]"
      ],
      "execution_count": 11,
      "outputs": []
    },
    {
      "cell_type": "code",
      "metadata": {
        "id": "Sru0NB5HEZ2i"
      },
      "source": [
        "sentences = get_sentences(train)"
      ],
      "execution_count": 12,
      "outputs": []
    },
    {
      "cell_type": "markdown",
      "source": [],
      "metadata": {
        "id": "fRzExg6_OqNp"
      }
    },
    {
      "cell_type": "code",
      "metadata": {
        "id": "RSbYX604EZ7v",
        "colab": {
          "base_uri": "https://localhost:8080/"
        },
        "outputId": "bdd83f18-0401-48fc-df72-e7a827c5b53e"
      },
      "source": [
        "sentences[0]"
      ],
      "execution_count": 13,
      "outputs": [
        {
          "output_type": "execute_result",
          "data": {
            "text/plain": [
              "[('Đồng_thời', 'O'),\n",
              " (',', 'O'),\n",
              " ('bệnh_viện', 'O'),\n",
              " ('tiếp_tục', 'O'),\n",
              " ('thực_hiện', 'O'),\n",
              " ('các', 'O'),\n",
              " ('biện_pháp', 'O'),\n",
              " ('phòng_chống', 'O'),\n",
              " ('dịch_bệnh', 'O'),\n",
              " ('COVID', 'O'),\n",
              " ('-', 'O'),\n",
              " ('19', 'O'),\n",
              " ('theo', 'O'),\n",
              " ('hướng_dẫn', 'O'),\n",
              " ('của', 'O'),\n",
              " ('Bộ', 'B-ORGANIZATION'),\n",
              " ('Y_tế', 'I-ORGANIZATION'),\n",
              " ('.', 'O')]"
            ]
          },
          "metadata": {},
          "execution_count": 13
        }
      ]
    },
    {
      "cell_type": "markdown",
      "metadata": {
        "id": "XojZjemOdEOC"
      },
      "source": [
        "# Bước 4: Ánh xạ giữa các câu và chỉ mục\n",
        "Chúng ta có thể thấy rằng mỗi từ được gán cho một thẻ duy nhất. Chúng tôi có thể truy xuất những từ này bằng cách sử dụng các chỉ số của chúng và tra cứu chúng trong từ điển và trả về các khóa tương ứng.\n"
      ]
    },
    {
      "cell_type": "code",
      "metadata": {
        "id": "KzmuYP_CEZ-l"
      },
      "source": [
        "word2idx = {w: i   for i, w in enumerate(words)}\n",
        "tag2idx = {t: i for i, t in enumerate(tags)}"
      ],
      "execution_count": 14,
      "outputs": []
    },
    {
      "cell_type": "code",
      "metadata": {
        "id": "dQY8s4cKEvnw",
        "colab": {
          "base_uri": "https://localhost:8080/"
        },
        "outputId": "7926b562-3375-4bf6-8d40-494a8c8ea376"
      },
      "source": [
        "# word2idx\n",
        "word2idx[\"ENDPAD\"]\n"
      ],
      "execution_count": 15,
      "outputs": [
        {
          "output_type": "execute_result",
          "data": {
            "text/plain": [
              "8101"
            ]
          },
          "metadata": {},
          "execution_count": 15
        }
      ]
    },
    {
      "cell_type": "code",
      "source": [
        "tag2idx"
      ],
      "metadata": {
        "colab": {
          "base_uri": "https://localhost:8080/"
        },
        "id": "sa4c1N6DlhtN",
        "outputId": "b1ae7afb-8a8b-4565-d966-08cc264fe27e"
      },
      "execution_count": 16,
      "outputs": [
        {
          "output_type": "execute_result",
          "data": {
            "text/plain": [
              "{'B-LOCATION': 0,\n",
              " 'I-JOB': 1,\n",
              " 'B-PATIENT_ID': 2,\n",
              " 'B-AGE': 3,\n",
              " 'I-PATIENT_ID': 4,\n",
              " 'I-LOCATION': 5,\n",
              " 'B-ORGANIZATION': 6,\n",
              " 'O': 7,\n",
              " 'B-JOB': 8,\n",
              " 'B-GENDER': 9,\n",
              " 'I-TRANSPORTATION': 10,\n",
              " 'B-TRANSPORTATION': 11,\n",
              " 'I-DATE': 12,\n",
              " 'I-NAME': 13,\n",
              " 'I-SYMPTOM_AND_DISEASE': 14,\n",
              " 'B-NAME': 15,\n",
              " 'I-ORGANIZATION': 16,\n",
              " 'B-DATE': 17,\n",
              " 'B-SYMPTOM_AND_DISEASE': 18,\n",
              " 'I-AGE': 19}"
            ]
          },
          "metadata": {},
          "execution_count": 16
        }
      ]
    },
    {
      "cell_type": "markdown",
      "metadata": {
        "id": "M4jHHTiNeHQD"
      },
      "source": [
        "# Visualizing"
      ]
    },
    {
      "cell_type": "code",
      "metadata": {
        "id": "QsaS9yuIEvqA",
        "colab": {
          "base_uri": "https://localhost:8080/",
          "height": 279
        },
        "outputId": "c5825446-bc9c-4c9a-dd63-59ae01cdb05f"
      },
      "source": [
        "#vẽ biểu đồ thể hiện phân bố chiều dài của câu trong tập dữ liệu.\n",
        "plt.hist([len(s) for s in sentences], bins=50)\n",
        "plt.xlabel('Length of sentences')\n",
        "plt.ylabel('Number of sentences')\n",
        "plt.show()"
      ],
      "execution_count": 17,
      "outputs": [
        {
          "output_type": "display_data",
          "data": {
            "text/plain": [
              "<Figure size 432x288 with 1 Axes>"
            ],
            "image/png": "[encoded data removed]"
          },
          "metadata": {
            "needs_background": "light"
          }
        }
      ]
    },
    {
      "cell_type": "code",
      "metadata": {
        "id": "MdhMd7c8Evrg"
      },
      "source": [
        "#ánh xạ từ trong câu và nhãn về index của nó\n",
        "from tensorflow.keras.preprocessing.sequence import pad_sequences\n",
        "#đặt max length cho phù hợp\n",
        "max_len = 95\n",
        " \n",
        "X = [[word2idx[w[0]] for w in s] for s in sentences]\n",
        "X = pad_sequences(maxlen=max_len, sequences=X, padding=\"post\", value=num_words-1)\n",
        "#tương tự với nhãn\n",
        "y = [[tag2idx[w[1]] for w in s] for s in sentences]\n",
        "y = pad_sequences(maxlen=max_len, sequences=y, padding='post', value=tag2idx[\"O\"])\n"
      ],
      "execution_count": 18,
      "outputs": []
    },
    {
      "cell_type": "code",
      "metadata": {
        "id": "cdIeqfSChr3z",
        "colab": {
          "base_uri": "https://localhost:8080/"
        },
        "outputId": "ff5d14fd-207d-4292-bd77-ab81c6119747"
      },
      "source": [
        "print(X[0])\n",
        "print(y[0])"
      ],
      "execution_count": 19,
      "outputs": [
        {
          "output_type": "stream",
          "name": "stdout",
          "text": [
            "[4050 7844  927 4910  830  190 5206 3832  775 4069  391 5265 5408 7505\n",
            " 5851 5995 4768 3466 8101 8101 8101 8101 8101 8101 8101 8101 8101 8101\n",
            " 8101 8101 8101 8101 8101 8101 8101 8101 8101 8101 8101 8101 8101 8101\n",
            " 8101 8101 8101 8101 8101 8101 8101 8101 8101 8101 8101 8101 8101 8101\n",
            " 8101 8101 8101 8101 8101 8101 8101 8101 8101 8101 8101 8101 8101 8101\n",
            " 8101 8101 8101 8101 8101 8101 8101 8101 8101 8101 8101 8101 8101 8101\n",
            " 8101 8101 8101 8101 8101 8101 8101 8101 8101 8101 8101]\n",
            "[ 7  7  7  7  7  7  7  7  7  7  7  7  7  7  7  6 16  7  7  7  7  7  7  7\n",
            "  7  7  7  7  7  7  7  7  7  7  7  7  7  7  7  7  7  7  7  7  7  7  7  7\n",
            "  7  7  7  7  7  7  7  7  7  7  7  7  7  7  7  7  7  7  7  7  7  7  7  7\n",
            "  7  7  7  7  7  7  7  7  7  7  7  7  7  7  7  7  7  7  7  7  7  7  7]\n"
          ]
        }
      ]
    },
    {
      "cell_type": "markdown",
      "metadata": {
        "id": "SricyH2-jpe7"
      },
      "source": [
        "- test_size = 0.2 có nghĩa là 80% dữ liệu chia cho tập huấn luyện và 20% còn lại cho tập kiểm tra."
      ]
    },
    {
      "cell_type": "code",
      "metadata": {
        "id": "pTZXbacIEvth"
      },
      "source": [
        "from sklearn.model_selection import train_test_split \n",
        "x_train, x_test, y_train, y_test = train_test_split(X, y, test_size=0.2, random_state=1)"
      ],
      "execution_count": 20,
      "outputs": []
    },
    {
      "cell_type": "markdown",
      "metadata": {
        "id": "4BX80iq9kHhf"
      },
      "source": [
        "# Bước 6: Xây dựng Mô hình LSTM hai chiều (bi-LSTM)\n"
      ]
    },
    {
      "cell_type": "code",
      "metadata": {
        "id": "XfT0mUF3F20e"
      },
      "source": [
        "from tensorflow.keras.models import Sequential\n",
        "from tensorflow.keras import Model, Input\n",
        "from tensorflow.keras.layers import LSTM, Embedding, Dense\n",
        "from tensorflow.keras.layers import TimeDistributed, SpatialDropout1D, Bidirectional"
      ],
      "execution_count": 21,
      "outputs": []
    },
    {
      "cell_type": "markdown",
      "metadata": {
        "id": "woxrXbQKlTdR"
      },
      "source": [
        "Bản tóm tắt cho thấy rằng chúng ta có hơn 1,8 triệu tham số cần được huấn luyện."
      ]
    },
    {
      "cell_type": "code",
      "metadata": {
        "id": "Lr4UtVstEvuz",
        "colab": {
          "base_uri": "https://localhost:8080/"
        },
        "outputId": "749431a3-b78d-4c4a-ca79-013e26dc3241"
      },
      "source": [
        "model = Sequential()\n",
        "\n",
        "#Input\n",
        "model.add(Input(shape=(max_len,)))\n",
        "\n",
        "#Embedding\n",
        "model.add(Embedding(input_dim=num_words, input_length=max_len, output_dim=max_len))\n",
        "\n",
        "#SpatialDropout1D\n",
        "model.add(SpatialDropout1D(0.1))\n",
        "\n",
        "#LSTM\n",
        "model.add(LSTM(units=100, return_sequences=True, recurrent_dropout=0.5))\n",
        "\n",
        "#TimeDistributed\n",
        "model.add(TimeDistributed(Dense(num_tags, activation='softmax')))\n",
        "\n",
        "model.summary()"
      ],
      "execution_count": 22,
      "outputs": [
        {
          "output_type": "stream",
          "name": "stdout",
          "text": [
            "Model: \"sequential\"\n",
            "_________________________________________________________________\n",
            " Layer (type)                Output Shape              Param #   \n",
            "=================================================================\n",
            " embedding (Embedding)       (None, 95, 95)            769690    \n",
            "                                                                 \n",
            " spatial_dropout1d (SpatialD  (None, 95, 95)           0         \n",
            " ropout1D)                                                       \n",
            "                                                                 \n",
            " lstm (LSTM)                 (None, 95, 100)           78400     \n",
            "                                                                 \n",
            " time_distributed (TimeDistr  (None, 95, 20)           2020      \n",
            " ibuted)                                                         \n",
            "                                                                 \n",
            "=================================================================\n",
            "Total params: 850,110\n",
            "Trainable params: 850,110\n",
            "Non-trainable params: 0\n",
            "_________________________________________________________________\n"
          ]
        }
      ]
    },
    {
      "cell_type": "markdown",
      "metadata": {
        "id": "3Fw5QXjJlyAy"
      },
      "source": [
        "- Sử dụng trình tối ưu hoá \"adam\"\n",
        "- sparce_categorical_crossentropy làm hàm mất mát\n",
        "- Ma trận mà chúng ta sẽ quan tâm là ma trận độ chính xác."
      ]
    },
    {
      "cell_type": "code",
      "metadata": {
        "id": "I5qKoUzREvwr"
      },
      "source": [
        "model.compile(optimizer=\"adam\",\n",
        "              loss=\"sparse_categorical_crossentropy\",\n",
        "              metrics=[\"accuracy\"])"
      ],
      "execution_count": 23,
      "outputs": []
    },
    {
      "cell_type": "markdown",
      "metadata": {
        "id": "Dc_jElQlmtEP"
      },
      "source": [
        "#Bước7: Huấn luyện Model"
      ]
    },
    {
      "cell_type": "markdown",
      "metadata": {
        "id": "xmPTE4emnSJ8"
      },
      "source": [
        "- Để bắt đầu huấn luyện là gọi model.fit ()\n",
        "- Có thể tăng kích thước batch_size nếu bạn có GPU có kích thước bộ nhớ lớn.\n",
        "\n"
      ]
    },
    {
      "cell_type": "code",
      "metadata": {
        "id": "wNg5eaGsGLX7",
        "colab": {
          "base_uri": "https://localhost:8080/"
        },
        "outputId": "ca73ce31-e08c-45d2-9b76-4b8d9e46b84d"
      },
      "source": [
        "# Các bạn nhớ là phải lưu mô hình khi train (có nhắc lại yêu cầu ở cuối) \n",
        "import time\n",
        "start_time = time.time()\n",
        "\n",
        "history = model.fit(\n",
        "    x=x_train,\n",
        "    y=y_train,\n",
        "    # validation_data=(x_valid,y_valid),\n",
        "    validation_split= 0.1,\n",
        "    batch_size= 32, \n",
        "    epochs=1,\n",
        "    verbose=1\n",
        ")\n",
        "print(\"[{}] Completed!\".format(time.time() - start_time))"
      ],
      "execution_count": 25,
      "outputs": [
        {
          "output_type": "stream",
          "name": "stdout",
          "text": [
            "114/114 [==============================] - 24s 208ms/step - loss: 0.1785 - accuracy: 0.9542 - val_loss: 0.1538 - val_accuracy: 0.9583\n",
            "[24.019193410873413] Completed!\n"
          ]
        }
      ]
    },
    {
      "cell_type": "markdown",
      "metadata": {
        "id": "S4VxiMpqoMF5"
      },
      "source": [
        "# Bước8: Đánh giá mô hình NER\n",
        "\n"
      ]
    },
    {
      "cell_type": "code",
      "metadata": {
        "id": "TWk9eXUKoHXg",
        "colab": {
          "base_uri": "https://localhost:8080/"
        },
        "outputId": "763428d7-ea95-4332-f3be-db9cae6efdb4"
      },
      "source": [
        "model.evaluate(x_test, y_test)"
      ],
      "execution_count": 26,
      "outputs": [
        {
          "output_type": "stream",
          "name": "stdout",
          "text": [
            "32/32 [==============================] - 1s 38ms/step - loss: 0.1522 - accuracy: 0.9588\n"
          ]
        },
        {
          "output_type": "execute_result",
          "data": {
            "text/plain": [
              "[0.15220414102077484, 0.958846926689148]"
            ]
          },
          "metadata": {},
          "execution_count": 26
        }
      ]
    },
    {
      "cell_type": "markdown",
      "metadata": {
        "id": "j--OVsRnocbZ"
      },
      "source": [
        "- Dự đoán"
      ]
    },
    {
      "cell_type": "code",
      "metadata": {
        "id": "rb9DEgbcGLbL",
        "colab": {
          "base_uri": "https://localhost:8080/"
        },
        "outputId": "e8b55752-7705-453f-d4fd-30267f2f6bb4"
      },
      "source": [
        "# i = np.random.randint(0, x_test.shape[0]) #659\n",
        "#print(x_test[1])\n",
        "i =99\n",
        "p = model.predict(np.array([x_test[i]]))\n",
        "p = np.argmax(p, axis=-1)\n",
        "y_true = y_test[i]\n",
        "print(\"{:15}{:5}\\t {}\\n\".format(\"Word\", \"True\", \"Pred\"))\n",
        "print(\"-\" *30)\n",
        "for w, true, pred in zip(x_test[i], y_true, p[0]):\n",
        "    print(\"{:15}{}\\t{}\".format(words[w-1], tags[true], tags[pred]))"
      ],
      "execution_count": 27,
      "outputs": [
        {
          "output_type": "stream",
          "name": "stdout",
          "text": [
            "1/1 [==============================] - 0s 359ms/step\n",
            "Word           True \t Pred\n",
            "\n",
            "------------------------------\n",
            "bao_gồm        O\tO\n",
            "đó             O\tO\n",
            "Đêm            O\tO\n",
            "7/3            O\tO\n",
            "Yên_Ninh       O\tO\n",
            "1077           O\tO\n",
            "ICU            O\tO\n",
            "tự_do          O\tO\n",
            "luồng          O\tO\n",
            "Hà_Tĩnh        B-LOCATION\tB-LOCATION\n",
            "nhân_tạo       O\tO\n",
            "69             B-LOCATION\tB-LOCATION\n",
            "lầu            O\tO\n",
            "06h22          B-LOCATION\tO\n",
            "nhân_tạo       O\tO\n",
            "dọc            B-LOCATION\tB-LOCATION\n",
            "chơi           O\tO\n",
            "Phúc_La        O\tO\n",
            "Việt           O\tO\n",
            "nCoVđể         O\tO\n",
            "gout           O\tO\n",
            "nhận_biết      O\tO\n",
            "tạm            O\tO\n",
            "A9             O\tO\n",
            "hôm_qua        O\tO\n",
            "Nguyễn_Văn_KínhO\tO\n",
            "trăm           O\tO\n",
            "Dương_Bá_Trạc  O\tO\n",
            "cả             O\tO\n",
            "hàng_đầu       O\tO\n",
            "Phúc_La        O\tO\n",
            "Việt           O\tO\n",
            "412            O\tO\n",
            "Yên_Ninh       O\tO\n",
            "Nihon_Plast    O\tO\n",
            "Nguyễn_Phương_AnhO\tO\n",
            "5.100          O\tO\n",
            "lo_lắng        O\tO\n",
            "A9             O\tO\n",
            "con_cái        O\tO\n",
            "thú_y          O\tO\n",
            "Điều_dưỡng     O\tO\n",
            "L.ANH          O\tO\n",
            "Thượng_Thanh   O\tO\n",
            "phải           O\tO\n",
            "ngực           O\tO\n",
            "Và             O\tO\n",
            "trực_tuyến     O\tO\n",
            "Nguyễn_Thị_HiềnO\tO\n",
            "Như_Xuân       O\tO\n",
            "Nguyễn_Đình_ChiểuO\tO\n",
            "đầu            O\tO\n",
            "đầu            O\tO\n",
            "đầu            O\tO\n",
            "đầu            O\tO\n",
            "đầu            O\tO\n",
            "đầu            O\tO\n",
            "đầu            O\tO\n",
            "đầu            O\tO\n",
            "đầu            O\tO\n",
            "đầu            O\tO\n",
            "đầu            O\tO\n",
            "đầu            O\tO\n",
            "đầu            O\tO\n",
            "đầu            O\tO\n",
            "đầu            O\tO\n",
            "đầu            O\tO\n",
            "đầu            O\tO\n",
            "đầu            O\tO\n",
            "đầu            O\tO\n",
            "đầu            O\tO\n",
            "đầu            O\tO\n",
            "đầu            O\tO\n",
            "đầu            O\tO\n",
            "đầu            O\tO\n",
            "đầu            O\tO\n",
            "đầu            O\tO\n",
            "đầu            O\tO\n",
            "đầu            O\tO\n",
            "đầu            O\tO\n",
            "đầu            O\tO\n",
            "đầu            O\tO\n",
            "đầu            O\tO\n",
            "đầu            O\tO\n",
            "đầu            O\tO\n",
            "đầu            O\tO\n",
            "đầu            O\tO\n",
            "đầu            O\tO\n",
            "đầu            O\tO\n",
            "đầu            O\tO\n",
            "đầu            O\tO\n",
            "đầu            O\tO\n",
            "đầu            O\tO\n",
            "đầu            O\tO\n",
            "đầu            O\tO\n"
          ]
        }
      ]
    },
    {
      "cell_type": "markdown",
      "metadata": {
        "id": "TYE4_FZFv2MY"
      },
      "source": []
    },
    {
      "cell_type": "code",
      "metadata": {
        "id": "kvdu_aUtR3YQ",
        "colab": {
          "base_uri": "https://localhost:8080/"
        },
        "outputId": "cc488561-5776-4951-ea67-243b2ba96e13"
      },
      "source": [
        "# hoàn thành yêu cầu trong file thực hành tương ứng cho câu 1 và 2.\n",
        "predict = np.argmax(model.predict(np.array(x_test)), axis=-1)\n",
        "from sklearn.metrics import accuracy_score\n",
        "accuracy_score(y_test.ravel(), predict.ravel())"
      ],
      "execution_count": 38,
      "outputs": [
        {
          "output_type": "stream",
          "name": "stdout",
          "text": [
            "32/32 [==============================] - 3s 81ms/step\n"
          ]
        },
        {
          "output_type": "execute_result",
          "data": {
            "text/plain": [
              "0.9588469184890656"
            ]
          },
          "metadata": {},
          "execution_count": 38
        }
      ]
    },
    {
      "cell_type": "code",
      "source": [
        "from sklearn.metrics import  f1_score\n",
        "print(\"F1-score (macro): {} \".format(f1_score(y_test.ravel(), predict.ravel(), average = 'macro')))\n",
        "print(\"F1-score (micro): {} \".format(f1_score(y_test.ravel(), predict.ravel(), average = 'micro')))"
      ],
      "metadata": {
        "colab": {
          "base_uri": "https://localhost:8080/"
        },
        "id": "dfu94uXhtxbg",
        "outputId": "21ddd02b-75cb-42b1-d59f-96322ad1f3a2"
      },
      "execution_count": 39,
      "outputs": [
        {
          "output_type": "stream",
          "name": "stdout",
          "text": [
            "F1-score (macro): 0.11736124947088476 \n",
            "F1-score (micro): 0.9588469184890656 \n"
          ]
        }
      ]
    },
    {
      "cell_type": "code",
      "source": [
        "from sklearn.metrics import classification_report\n",
        "\n",
        "idx2tag = {i: t for i, t in enumerate(tags)}\n",
        "print(classification_report(y_test.ravel(), predict.ravel(),labels=list(idx2tag.keys()),target_names=list(idx2tag.values())))"
      ],
      "metadata": {
        "colab": {
          "base_uri": "https://localhost:8080/"
        },
        "id": "MFDZ9-UMt9nv",
        "outputId": "6a25b056-bad9-469c-a253-913c75fe330f"
      },
      "execution_count": 40,
      "outputs": [
        {
          "output_type": "stream",
          "name": "stdout",
          "text": [
            "                       precision    recall  f1-score   support\n",
            "\n",
            "           B-LOCATION       0.46      0.77      0.57      1024\n",
            "                I-JOB       0.00      0.00      0.00         4\n",
            "         B-PATIENT_ID       0.73      0.01      0.03       608\n",
            "                B-AGE       0.00      0.00      0.00       135\n",
            "         I-PATIENT_ID       0.00      0.00      0.00         3\n",
            "           I-LOCATION       0.47      0.83      0.60      1016\n",
            "       B-ORGANIZATION       0.00      0.00      0.00       224\n",
            "                    O       0.98      1.00      0.99     90229\n",
            "                B-JOB       0.00      0.00      0.00        39\n",
            "             B-GENDER       0.00      0.00      0.00        98\n",
            "     I-TRANSPORTATION       0.00      0.00      0.00        17\n",
            "     B-TRANSPORTATION       0.00      0.00      0.00        39\n",
            "               I-DATE       0.14      0.00      0.00       424\n",
            "               I-NAME       0.00      0.00      0.00         5\n",
            "I-SYMPTOM_AND_DISEASE       0.00      0.00      0.00       364\n",
            "               B-NAME       0.00      0.00      0.00        78\n",
            "       I-ORGANIZATION       0.58      0.02      0.04       503\n",
            "               B-DATE       0.00      0.00      0.00       448\n",
            "B-SYMPTOM_AND_DISEASE       0.00      0.00      0.00       312\n",
            "                I-AGE       0.00      0.00      0.00         0\n",
            "\n",
            "            micro avg       0.96      0.96      0.96     95570\n",
            "            macro avg       0.17      0.13      0.11     95570\n",
            "         weighted avg       0.94      0.96      0.95     95570\n",
            "\n"
          ]
        },
        {
          "output_type": "stream",
          "name": "stderr",
          "text": [
            "/usr/local/lib/python3.7/dist-packages/sklearn/metrics/_classification.py:1318: UndefinedMetricWarning: Precision and F-score are ill-defined and being set to 0.0 in labels with no predicted samples. Use `zero_division` parameter to control this behavior.\n",
            "  _warn_prf(average, modifier, msg_start, len(result))\n",
            "/usr/local/lib/python3.7/dist-packages/sklearn/metrics/_classification.py:1318: UndefinedMetricWarning: Recall and F-score are ill-defined and being set to 0.0 in labels with no true samples. Use `zero_division` parameter to control this behavior.\n",
            "  _warn_prf(average, modifier, msg_start, len(result))\n",
            "/usr/local/lib/python3.7/dist-packages/sklearn/metrics/_classification.py:1318: UndefinedMetricWarning: Precision and F-score are ill-defined and being set to 0.0 in labels with no predicted samples. Use `zero_division` parameter to control this behavior.\n",
            "  _warn_prf(average, modifier, msg_start, len(result))\n",
            "/usr/local/lib/python3.7/dist-packages/sklearn/metrics/_classification.py:1318: UndefinedMetricWarning: Recall and F-score are ill-defined and being set to 0.0 in labels with no true samples. Use `zero_division` parameter to control this behavior.\n",
            "  _warn_prf(average, modifier, msg_start, len(result))\n",
            "/usr/local/lib/python3.7/dist-packages/sklearn/metrics/_classification.py:1318: UndefinedMetricWarning: Precision and F-score are ill-defined and being set to 0.0 in labels with no predicted samples. Use `zero_division` parameter to control this behavior.\n",
            "  _warn_prf(average, modifier, msg_start, len(result))\n",
            "/usr/local/lib/python3.7/dist-packages/sklearn/metrics/_classification.py:1318: UndefinedMetricWarning: Recall and F-score are ill-defined and being set to 0.0 in labels with no true samples. Use `zero_division` parameter to control this behavior.\n",
            "  _warn_prf(average, modifier, msg_start, len(result))\n"
          ]
        }
      ]
    },
    {
      "cell_type": "markdown",
      "source": [
        "# Lưu model\n",
        "\n",
        "Các bạn lưu lại model đã lưu và bộ trong số model"
      ],
      "metadata": {
        "id": "-usGGIQuA7qz"
      }
    },
    {
      "cell_type": "code",
      "source": [
        "from keras.models import save_model\n",
        "save_model(model, filepath='/content/drive/MyDrive/Ds310/Buổi 2/LSMT_cau_2_BTTH2.h5')"
      ],
      "metadata": {
        "id": "H6mG1SfouEet"
      },
      "execution_count": 41,
      "outputs": []
    }
  ]
}